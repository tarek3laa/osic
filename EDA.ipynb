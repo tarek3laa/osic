{
  "nbformat": 4,
  "nbformat_minor": 0,
  "metadata": {
    "colab": {
      "name": "EDA.ipynb",
      "provenance": [],
      "collapsed_sections": [],
      "toc_visible": true
    },
    "kernelspec": {
      "name": "python3",
      "display_name": "Python 3"
    }
  },
  "cells": [
    {
      "cell_type": "markdown",
      "metadata": {
        "id": "q-KvxikwH9MN"
      },
      "source": [
        "#import libiares"
      ]
    },
    {
      "cell_type": "code",
      "metadata": {
        "id": "vmt-T28ck7XO",
        "colab": {
          "base_uri": "https://localhost:8080/"
        },
        "outputId": "5881d587-5dca-4dda-bcaa-9efac1a7f4d2"
      },
      "source": [
        "!pip install wget"
      ],
      "execution_count": null,
      "outputs": [
        {
          "output_type": "stream",
          "text": [
            "Collecting wget\n",
            "  Downloading https://files.pythonhosted.org/packages/47/6a/62e288da7bcda82b935ff0c6cfe542970f04e29c756b0e147251b2fb251f/wget-3.2.zip\n",
            "Building wheels for collected packages: wget\n",
            "  Building wheel for wget (setup.py) ... \u001b[?25l\u001b[?25hdone\n",
            "  Created wheel for wget: filename=wget-3.2-cp37-none-any.whl size=9681 sha256=7f730ea7abd68d844bcab1e89fd684a00731f6709bd31d3c3cc41a01a488d7a1\n",
            "  Stored in directory: /root/.cache/pip/wheels/40/15/30/7d8f7cea2902b4db79e3fea550d7d7b85ecb27ef992b618f3f\n",
            "Successfully built wget\n",
            "Installing collected packages: wget\n",
            "Successfully installed wget-3.2\n"
          ],
          "name": "stdout"
        }
      ]
    },
    {
      "cell_type": "code",
      "metadata": {
        "id": "RH4zL6qvH3Gv"
      },
      "source": [
        "from matplotlib import pyplot as plt\n",
        "import numpy as np\n",
        "import pandas as pd\n",
        "import scipy\n",
        "import wget\n",
        "import seaborn as sns\n",
        "from sklearn.base import BaseEstimator, TransformerMixin\n",
        "from sklearn.pipeline import Pipeline\n",
        "from sklearn.preprocessing import StandardScaler\n",
        "from sklearn.preprocessing import OrdinalEncoder\n",
        "from sklearn.preprocessing import OneHotEncoder\n",
        "from sklearn.metrics import mean_absolute_error\n",
        "from drive.MyDrive.graduation_project.utils.utils import *\n",
        "from drive.MyDrive.graduation_project.utils.features_preprocessing import *"
      ],
      "execution_count": null,
      "outputs": []
    },
    {
      "cell_type": "code",
      "metadata": {
        "id": "NQ02mvlKhpUw"
      },
      "source": [
        "np.random.seed = 100"
      ],
      "execution_count": null,
      "outputs": []
    },
    {
      "cell_type": "markdown",
      "metadata": {
        "id": "F9CvXNpMIh-F"
      },
      "source": [
        "#download the data"
      ]
    },
    {
      "cell_type": "code",
      "metadata": {
        "id": "7shwZE7bLl5a"
      },
      "source": [
        "url_tab_train = 'https://storage.googleapis.com/kagglesdsdata/competitions/20604/1357052/train.csv?GoogleAccessId=web-data@kaggle-161607.iam.gserviceaccount.com&Expires=1617227110&Signature=C5r5j%2Bf3HL4lq4cJN6swnEC%2FGMpan9jn98vfMBmRa6hZsWWAI3uyQ5rVI98b7OPxqCSjijPx9veYrHyu5RE%2B0Q0DT4esTIbs3K1wncO4g0uH%2F%2Fevme0YVjYtEYNuK5MHc1Cmd6IjPzX%2BTDtYMNwHn9TlwnCkBeljkd6F51DXlPncqNrufHRa07b6it%2FxKLahk2xVBvNEeZABy7CIAgEBRuVVJwrdL5IDMmrUzGJIUCVcSr2ItrHCrl%2B9F1sPycdjEFo43PGACQzw%2FoiAI3gNdPmHwO5pN%2F3kzgHS3RRUIriL6CCCBJX47KY0C8wr9LPoBdM%2B8ws1uXjcvgkVgkoUKA%3D%3D&response-content-disposition=attachment%3B+filename%3Dtrain.csv'\n",
        "url_tab_test = 'https://storage.googleapis.com/kagglesdsdata/competitions/20604/1357052/test.csv?GoogleAccessId=web-data@kaggle-161607.iam.gserviceaccount.com&Expires=1611675231&Signature=FN8fD%2B4XQn6kY762NgMQH55dc%2B%2B1NhEjwwVYqJ2s5bNsjjRvO72Y9ISovX4d3mlG4xMUHJuDtjVbXMqvDJYRS3IimajnBHGZAbLU1YZl6ohP0VJ51XB2TTXZ%2BfWIwOJMCylA6DFYH%2B90HB5zoMSIyfpUyoSgC96%2FpXf1fOlE58E%2FPxtHtQEQbciPnpMXNhj%2FXI2MRFMoGUycjJmd4YR%2BEL2JdlyYhMrnX%2FM5z2%2B5hUJQquV3NuE9PkCn2Nq%2F0Ixnyz7%2F%2BaygNdM28FVI0N3zWnXyG4jgWQPQb4JUba8LFGX6sKpSQAJCetZNoOaBHmbAhsCX%2FsMiUrMWEHX5zlqWoQ%3D%3D&response-content-disposition=attachment%3B+filename%3Dtest.csv'"
      ],
      "execution_count": null,
      "outputs": []
    },
    {
      "cell_type": "code",
      "metadata": {
        "id": "1V5tLt5zL6xj",
        "colab": {
          "base_uri": "https://localhost:8080/",
          "height": 35
        },
        "outputId": "9389a608-65b4-4cc1-eb18-4674c981c776"
      },
      "source": [
        "wget.download(url_tab_train, '/content/train.csv')\n",
        "wget.download(url_tab_test, '/content/test.csv')"
      ],
      "execution_count": null,
      "outputs": [
        {
          "output_type": "execute_result",
          "data": {
            "application/vnd.google.colaboratory.intrinsic+json": {
              "type": "string"
            },
            "text/plain": [
              "'/content/train.csv'"
            ]
          },
          "metadata": {
            "tags": []
          },
          "execution_count": 5
        }
      ]
    },
    {
      "cell_type": "code",
      "metadata": {
        "id": "n_zusDrAW8RW"
      },
      "source": [
        "train_data = pd.read_csv('train.csv')\n",
        "#test_data = pd.read_csv('test.csv')"
      ],
      "execution_count": null,
      "outputs": []
    },
    {
      "cell_type": "markdown",
      "metadata": {
        "id": "0cT_bDXXXJ-I"
      },
      "source": [
        "#exploratory data analysis"
      ]
    },
    {
      "cell_type": "code",
      "metadata": {
        "id": "zpxkBaePXjxd",
        "colab": {
          "base_uri": "https://localhost:8080/",
          "height": 223
        },
        "outputId": "fca7b535-6712-46ce-dbf5-d2dc39d8fc2b"
      },
      "source": [
        "print(\"Training Dataframe shape\" , train_data.shape)\n",
        "train_data.head()"
      ],
      "execution_count": null,
      "outputs": [
        {
          "output_type": "stream",
          "text": [
            "Training Dataframe shape (1549, 7)\n"
          ],
          "name": "stdout"
        },
        {
          "output_type": "execute_result",
          "data": {
            "text/html": [
              "<div>\n",
              "<style scoped>\n",
              "    .dataframe tbody tr th:only-of-type {\n",
              "        vertical-align: middle;\n",
              "    }\n",
              "\n",
              "    .dataframe tbody tr th {\n",
              "        vertical-align: top;\n",
              "    }\n",
              "\n",
              "    .dataframe thead th {\n",
              "        text-align: right;\n",
              "    }\n",
              "</style>\n",
              "<table border=\"1\" class=\"dataframe\">\n",
              "  <thead>\n",
              "    <tr style=\"text-align: right;\">\n",
              "      <th></th>\n",
              "      <th>Patient</th>\n",
              "      <th>Weeks</th>\n",
              "      <th>FVC</th>\n",
              "      <th>Percent</th>\n",
              "      <th>Age</th>\n",
              "      <th>Sex</th>\n",
              "      <th>SmokingStatus</th>\n",
              "    </tr>\n",
              "  </thead>\n",
              "  <tbody>\n",
              "    <tr>\n",
              "      <th>0</th>\n",
              "      <td>ID00007637202177411956430</td>\n",
              "      <td>-4</td>\n",
              "      <td>2315</td>\n",
              "      <td>58.253649</td>\n",
              "      <td>79</td>\n",
              "      <td>Male</td>\n",
              "      <td>Ex-smoker</td>\n",
              "    </tr>\n",
              "    <tr>\n",
              "      <th>1</th>\n",
              "      <td>ID00007637202177411956430</td>\n",
              "      <td>5</td>\n",
              "      <td>2214</td>\n",
              "      <td>55.712129</td>\n",
              "      <td>79</td>\n",
              "      <td>Male</td>\n",
              "      <td>Ex-smoker</td>\n",
              "    </tr>\n",
              "    <tr>\n",
              "      <th>2</th>\n",
              "      <td>ID00007637202177411956430</td>\n",
              "      <td>7</td>\n",
              "      <td>2061</td>\n",
              "      <td>51.862104</td>\n",
              "      <td>79</td>\n",
              "      <td>Male</td>\n",
              "      <td>Ex-smoker</td>\n",
              "    </tr>\n",
              "    <tr>\n",
              "      <th>3</th>\n",
              "      <td>ID00007637202177411956430</td>\n",
              "      <td>9</td>\n",
              "      <td>2144</td>\n",
              "      <td>53.950679</td>\n",
              "      <td>79</td>\n",
              "      <td>Male</td>\n",
              "      <td>Ex-smoker</td>\n",
              "    </tr>\n",
              "    <tr>\n",
              "      <th>4</th>\n",
              "      <td>ID00007637202177411956430</td>\n",
              "      <td>11</td>\n",
              "      <td>2069</td>\n",
              "      <td>52.063412</td>\n",
              "      <td>79</td>\n",
              "      <td>Male</td>\n",
              "      <td>Ex-smoker</td>\n",
              "    </tr>\n",
              "  </tbody>\n",
              "</table>\n",
              "</div>"
            ],
            "text/plain": [
              "                     Patient  Weeks   FVC    Percent  Age   Sex SmokingStatus\n",
              "0  ID00007637202177411956430     -4  2315  58.253649   79  Male     Ex-smoker\n",
              "1  ID00007637202177411956430      5  2214  55.712129   79  Male     Ex-smoker\n",
              "2  ID00007637202177411956430      7  2061  51.862104   79  Male     Ex-smoker\n",
              "3  ID00007637202177411956430      9  2144  53.950679   79  Male     Ex-smoker\n",
              "4  ID00007637202177411956430     11  2069  52.063412   79  Male     Ex-smoker"
            ]
          },
          "metadata": {
            "tags": []
          },
          "execution_count": 23
        }
      ]
    },
    {
      "cell_type": "code",
      "metadata": {
        "id": "kRhJ2-QBM9tD",
        "colab": {
          "base_uri": "https://localhost:8080/",
          "height": 223
        },
        "outputId": "9b902bbb-c660-4a0b-813c-533843e72c4e"
      },
      "source": [
        "print(\"Test Dataframe shape\" , test_data.shape)\n",
        "test_data.head()"
      ],
      "execution_count": null,
      "outputs": [
        {
          "output_type": "stream",
          "text": [
            "Test Dataframe shape (5, 7)\n"
          ],
          "name": "stdout"
        },
        {
          "output_type": "execute_result",
          "data": {
            "text/html": [
              "<div>\n",
              "<style scoped>\n",
              "    .dataframe tbody tr th:only-of-type {\n",
              "        vertical-align: middle;\n",
              "    }\n",
              "\n",
              "    .dataframe tbody tr th {\n",
              "        vertical-align: top;\n",
              "    }\n",
              "\n",
              "    .dataframe thead th {\n",
              "        text-align: right;\n",
              "    }\n",
              "</style>\n",
              "<table border=\"1\" class=\"dataframe\">\n",
              "  <thead>\n",
              "    <tr style=\"text-align: right;\">\n",
              "      <th></th>\n",
              "      <th>Patient</th>\n",
              "      <th>Weeks</th>\n",
              "      <th>FVC</th>\n",
              "      <th>Percent</th>\n",
              "      <th>Age</th>\n",
              "      <th>Sex</th>\n",
              "      <th>SmokingStatus</th>\n",
              "    </tr>\n",
              "  </thead>\n",
              "  <tbody>\n",
              "    <tr>\n",
              "      <th>0</th>\n",
              "      <td>ID00419637202311204720264</td>\n",
              "      <td>6</td>\n",
              "      <td>3020</td>\n",
              "      <td>70.186855</td>\n",
              "      <td>73</td>\n",
              "      <td>Male</td>\n",
              "      <td>Ex-smoker</td>\n",
              "    </tr>\n",
              "    <tr>\n",
              "      <th>1</th>\n",
              "      <td>ID00421637202311550012437</td>\n",
              "      <td>15</td>\n",
              "      <td>2739</td>\n",
              "      <td>82.045291</td>\n",
              "      <td>68</td>\n",
              "      <td>Male</td>\n",
              "      <td>Ex-smoker</td>\n",
              "    </tr>\n",
              "    <tr>\n",
              "      <th>2</th>\n",
              "      <td>ID00422637202311677017371</td>\n",
              "      <td>6</td>\n",
              "      <td>1930</td>\n",
              "      <td>76.672493</td>\n",
              "      <td>73</td>\n",
              "      <td>Male</td>\n",
              "      <td>Ex-smoker</td>\n",
              "    </tr>\n",
              "    <tr>\n",
              "      <th>3</th>\n",
              "      <td>ID00423637202312137826377</td>\n",
              "      <td>17</td>\n",
              "      <td>3294</td>\n",
              "      <td>79.258903</td>\n",
              "      <td>72</td>\n",
              "      <td>Male</td>\n",
              "      <td>Ex-smoker</td>\n",
              "    </tr>\n",
              "    <tr>\n",
              "      <th>4</th>\n",
              "      <td>ID00426637202313170790466</td>\n",
              "      <td>0</td>\n",
              "      <td>2925</td>\n",
              "      <td>71.824968</td>\n",
              "      <td>73</td>\n",
              "      <td>Male</td>\n",
              "      <td>Never smoked</td>\n",
              "    </tr>\n",
              "  </tbody>\n",
              "</table>\n",
              "</div>"
            ],
            "text/plain": [
              "                     Patient  Weeks   FVC    Percent  Age   Sex SmokingStatus\n",
              "0  ID00419637202311204720264      6  3020  70.186855   73  Male     Ex-smoker\n",
              "1  ID00421637202311550012437     15  2739  82.045291   68  Male     Ex-smoker\n",
              "2  ID00422637202311677017371      6  1930  76.672493   73  Male     Ex-smoker\n",
              "3  ID00423637202312137826377     17  3294  79.258903   72  Male     Ex-smoker\n",
              "4  ID00426637202313170790466      0  2925  71.824968   73  Male  Never smoked"
            ]
          },
          "metadata": {
            "tags": []
          },
          "execution_count": 10
        }
      ]
    },
    {
      "cell_type": "code",
      "metadata": {
        "colab": {
          "base_uri": "https://localhost:8080/"
        },
        "id": "D05rSCA5Q9Zo",
        "outputId": "b59c62f0-b8ff-4a41-f180-e51110aa1899"
      },
      "source": [
        "train_data.info()"
      ],
      "execution_count": null,
      "outputs": [
        {
          "output_type": "stream",
          "text": [
            "<class 'pandas.core.frame.DataFrame'>\n",
            "RangeIndex: 1549 entries, 0 to 1548\n",
            "Data columns (total 7 columns):\n",
            " #   Column         Non-Null Count  Dtype  \n",
            "---  ------         --------------  -----  \n",
            " 0   Patient        1549 non-null   object \n",
            " 1   Weeks          1549 non-null   int64  \n",
            " 2   FVC            1549 non-null   int64  \n",
            " 3   Percent        1549 non-null   float64\n",
            " 4   Age            1549 non-null   int64  \n",
            " 5   Sex            1549 non-null   object \n",
            " 6   SmokingStatus  1549 non-null   object \n",
            "dtypes: float64(1), int64(3), object(3)\n",
            "memory usage: 84.8+ KB\n"
          ],
          "name": "stdout"
        }
      ]
    },
    {
      "cell_type": "code",
      "metadata": {
        "id": "l-XU5ToaV5Yn",
        "colab": {
          "base_uri": "https://localhost:8080/"
        },
        "outputId": "38a6e745-2f5e-47ef-e0e5-b16e22b65c88"
      },
      "source": [
        "train_data.nunique()"
      ],
      "execution_count": null,
      "outputs": [
        {
          "output_type": "execute_result",
          "data": {
            "text/plain": [
              "Patient           176\n",
              "Weeks             112\n",
              "FVC              1202\n",
              "Percent          1536\n",
              "Age                34\n",
              "Sex                 2\n",
              "SmokingStatus       3\n",
              "dtype: int64"
            ]
          },
          "metadata": {
            "tags": []
          },
          "execution_count": 14
        }
      ]
    },
    {
      "cell_type": "code",
      "metadata": {
        "id": "SW8mQbTRVdEU",
        "colab": {
          "base_uri": "https://localhost:8080/"
        },
        "outputId": "759cda7b-57e3-4191-9d4a-5241b28165a9"
      },
      "source": [
        "train_data.isnull().sum()"
      ],
      "execution_count": null,
      "outputs": [
        {
          "output_type": "execute_result",
          "data": {
            "text/plain": [
              "Patient          0\n",
              "Weeks            0\n",
              "FVC              0\n",
              "Percent          0\n",
              "Age              0\n",
              "Sex              0\n",
              "SmokingStatus    0\n",
              "dtype: int64"
            ]
          },
          "metadata": {
            "tags": []
          },
          "execution_count": 9
        }
      ]
    },
    {
      "cell_type": "code",
      "metadata": {
        "id": "VzWM5UVScSv6"
      },
      "source": [
        "grouped = train_data.groupby('Patient')[['Weeks','FVC','Percent']].agg([np.min,np.max,np.mean,np.std]).astype(int)"
      ],
      "execution_count": null,
      "outputs": []
    },
    {
      "cell_type": "code",
      "metadata": {
        "colab": {
          "base_uri": "https://localhost:8080/",
          "height": 269
        },
        "id": "ThzYepcXgH6f",
        "outputId": "b26a5160-5d09-4327-be58-1a5199f04639"
      },
      "source": [
        "grouped.head()"
      ],
      "execution_count": null,
      "outputs": [
        {
          "output_type": "execute_result",
          "data": {
            "text/html": [
              "<div>\n",
              "<style scoped>\n",
              "    .dataframe tbody tr th:only-of-type {\n",
              "        vertical-align: middle;\n",
              "    }\n",
              "\n",
              "    .dataframe tbody tr th {\n",
              "        vertical-align: top;\n",
              "    }\n",
              "\n",
              "    .dataframe thead tr th {\n",
              "        text-align: left;\n",
              "    }\n",
              "\n",
              "    .dataframe thead tr:last-of-type th {\n",
              "        text-align: right;\n",
              "    }\n",
              "</style>\n",
              "<table border=\"1\" class=\"dataframe\">\n",
              "  <thead>\n",
              "    <tr>\n",
              "      <th></th>\n",
              "      <th colspan=\"4\" halign=\"left\">Weeks</th>\n",
              "      <th colspan=\"4\" halign=\"left\">FVC</th>\n",
              "      <th colspan=\"4\" halign=\"left\">Percent</th>\n",
              "    </tr>\n",
              "    <tr>\n",
              "      <th></th>\n",
              "      <th>amin</th>\n",
              "      <th>amax</th>\n",
              "      <th>mean</th>\n",
              "      <th>std</th>\n",
              "      <th>amin</th>\n",
              "      <th>amax</th>\n",
              "      <th>mean</th>\n",
              "      <th>std</th>\n",
              "      <th>amin</th>\n",
              "      <th>amax</th>\n",
              "      <th>mean</th>\n",
              "      <th>std</th>\n",
              "    </tr>\n",
              "    <tr>\n",
              "      <th>Patient</th>\n",
              "      <th></th>\n",
              "      <th></th>\n",
              "      <th></th>\n",
              "      <th></th>\n",
              "      <th></th>\n",
              "      <th></th>\n",
              "      <th></th>\n",
              "      <th></th>\n",
              "      <th></th>\n",
              "      <th></th>\n",
              "      <th></th>\n",
              "      <th></th>\n",
              "    </tr>\n",
              "  </thead>\n",
              "  <tbody>\n",
              "    <tr>\n",
              "      <th>ID00007637202177411956430</th>\n",
              "      <td>-4</td>\n",
              "      <td>57</td>\n",
              "      <td>19</td>\n",
              "      <td>19</td>\n",
              "      <td>2000</td>\n",
              "      <td>2315</td>\n",
              "      <td>2113</td>\n",
              "      <td>96</td>\n",
              "      <td>50</td>\n",
              "      <td>58</td>\n",
              "      <td>53</td>\n",
              "      <td>2</td>\n",
              "    </tr>\n",
              "    <tr>\n",
              "      <th>ID00009637202177434476278</th>\n",
              "      <td>8</td>\n",
              "      <td>60</td>\n",
              "      <td>24</td>\n",
              "      <td>18</td>\n",
              "      <td>3214</td>\n",
              "      <td>3895</td>\n",
              "      <td>3596</td>\n",
              "      <td>197</td>\n",
              "      <td>74</td>\n",
              "      <td>90</td>\n",
              "      <td>83</td>\n",
              "      <td>4</td>\n",
              "    </tr>\n",
              "    <tr>\n",
              "      <th>ID00010637202177584971671</th>\n",
              "      <td>0</td>\n",
              "      <td>54</td>\n",
              "      <td>16</td>\n",
              "      <td>18</td>\n",
              "      <td>2474</td>\n",
              "      <td>3523</td>\n",
              "      <td>3037</td>\n",
              "      <td>358</td>\n",
              "      <td>66</td>\n",
              "      <td>94</td>\n",
              "      <td>81</td>\n",
              "      <td>9</td>\n",
              "    </tr>\n",
              "    <tr>\n",
              "      <th>ID00011637202177653955184</th>\n",
              "      <td>6</td>\n",
              "      <td>58</td>\n",
              "      <td>22</td>\n",
              "      <td>18</td>\n",
              "      <td>3193</td>\n",
              "      <td>3541</td>\n",
              "      <td>3387</td>\n",
              "      <td>113</td>\n",
              "      <td>82</td>\n",
              "      <td>91</td>\n",
              "      <td>87</td>\n",
              "      <td>2</td>\n",
              "    </tr>\n",
              "    <tr>\n",
              "      <th>ID00012637202177665765362</th>\n",
              "      <td>33</td>\n",
              "      <td>87</td>\n",
              "      <td>49</td>\n",
              "      <td>18</td>\n",
              "      <td>2971</td>\n",
              "      <td>3759</td>\n",
              "      <td>3348</td>\n",
              "      <td>212</td>\n",
              "      <td>81</td>\n",
              "      <td>103</td>\n",
              "      <td>91</td>\n",
              "      <td>5</td>\n",
              "    </tr>\n",
              "  </tbody>\n",
              "</table>\n",
              "</div>"
            ],
            "text/plain": [
              "                          Weeks                 FVC  ...      Percent              \n",
              "                           amin amax mean std  amin  ...  std    amin amax mean std\n",
              "Patient                                              ...                           \n",
              "ID00007637202177411956430    -4   57   19  19  2000  ...   96      50   58   53   2\n",
              "ID00009637202177434476278     8   60   24  18  3214  ...  197      74   90   83   4\n",
              "ID00010637202177584971671     0   54   16  18  2474  ...  358      66   94   81   9\n",
              "ID00011637202177653955184     6   58   22  18  3193  ...  113      82   91   87   2\n",
              "ID00012637202177665765362    33   87   49  18  2971  ...  212      81  103   91   5\n",
              "\n",
              "[5 rows x 12 columns]"
            ]
          },
          "metadata": {
            "tags": []
          },
          "execution_count": 9
        }
      ]
    },
    {
      "cell_type": "code",
      "metadata": {
        "id": "xMCyG1OzU95G"
      },
      "source": [
        "patient_data = train_data.drop_duplicates('Patient')[['Patient','Age','Sex','SmokingStatus']]"
      ],
      "execution_count": null,
      "outputs": []
    },
    {
      "cell_type": "code",
      "metadata": {
        "colab": {
          "base_uri": "https://localhost:8080/",
          "height": 206
        },
        "id": "0Z9wZ10wVI_Q",
        "outputId": "cfd8dba2-6048-4c82-8756-361eac43942a"
      },
      "source": [
        "patient_data.head()"
      ],
      "execution_count": null,
      "outputs": [
        {
          "output_type": "execute_result",
          "data": {
            "text/html": [
              "<div>\n",
              "<style scoped>\n",
              "    .dataframe tbody tr th:only-of-type {\n",
              "        vertical-align: middle;\n",
              "    }\n",
              "\n",
              "    .dataframe tbody tr th {\n",
              "        vertical-align: top;\n",
              "    }\n",
              "\n",
              "    .dataframe thead th {\n",
              "        text-align: right;\n",
              "    }\n",
              "</style>\n",
              "<table border=\"1\" class=\"dataframe\">\n",
              "  <thead>\n",
              "    <tr style=\"text-align: right;\">\n",
              "      <th></th>\n",
              "      <th>Patient</th>\n",
              "      <th>Age</th>\n",
              "      <th>Sex</th>\n",
              "      <th>SmokingStatus</th>\n",
              "    </tr>\n",
              "  </thead>\n",
              "  <tbody>\n",
              "    <tr>\n",
              "      <th>0</th>\n",
              "      <td>ID00007637202177411956430</td>\n",
              "      <td>79</td>\n",
              "      <td>Male</td>\n",
              "      <td>Ex-smoker</td>\n",
              "    </tr>\n",
              "    <tr>\n",
              "      <th>9</th>\n",
              "      <td>ID00009637202177434476278</td>\n",
              "      <td>69</td>\n",
              "      <td>Male</td>\n",
              "      <td>Ex-smoker</td>\n",
              "    </tr>\n",
              "    <tr>\n",
              "      <th>18</th>\n",
              "      <td>ID00010637202177584971671</td>\n",
              "      <td>60</td>\n",
              "      <td>Male</td>\n",
              "      <td>Ex-smoker</td>\n",
              "    </tr>\n",
              "    <tr>\n",
              "      <th>27</th>\n",
              "      <td>ID00011637202177653955184</td>\n",
              "      <td>72</td>\n",
              "      <td>Male</td>\n",
              "      <td>Ex-smoker</td>\n",
              "    </tr>\n",
              "    <tr>\n",
              "      <th>36</th>\n",
              "      <td>ID00012637202177665765362</td>\n",
              "      <td>65</td>\n",
              "      <td>Male</td>\n",
              "      <td>Never smoked</td>\n",
              "    </tr>\n",
              "  </tbody>\n",
              "</table>\n",
              "</div>"
            ],
            "text/plain": [
              "                      Patient  Age   Sex SmokingStatus\n",
              "0   ID00007637202177411956430   79  Male     Ex-smoker\n",
              "9   ID00009637202177434476278   69  Male     Ex-smoker\n",
              "18  ID00010637202177584971671   60  Male     Ex-smoker\n",
              "27  ID00011637202177653955184   72  Male     Ex-smoker\n",
              "36  ID00012637202177665765362   65  Male  Never smoked"
            ]
          },
          "metadata": {
            "tags": []
          },
          "execution_count": 11
        }
      ]
    },
    {
      "cell_type": "code",
      "metadata": {
        "id": "oXSkvDqagTCH",
        "colab": {
          "base_uri": "https://localhost:8080/"
        },
        "outputId": "94043136-0523-4d51-86af-b7ba5bcdea46"
      },
      "source": [
        "patient_data = patient_data.join(grouped,on='Patient')"
      ],
      "execution_count": null,
      "outputs": [
        {
          "output_type": "stream",
          "text": [
            "/usr/local/lib/python3.7/dist-packages/pandas/core/reshape/merge.py:643: UserWarning: merging between different levels can give an unintended result (1 levels on the left,2 on the right)\n",
            "  warnings.warn(msg, UserWarning)\n"
          ],
          "name": "stderr"
        }
      ]
    },
    {
      "cell_type": "code",
      "metadata": {
        "colab": {
          "base_uri": "https://localhost:8080/",
          "height": 243
        },
        "id": "0gRVd_ajhZrY",
        "outputId": "a3728fec-e8f2-4ea0-9eac-a72364371136"
      },
      "source": [
        "patient_data.head()"
      ],
      "execution_count": null,
      "outputs": [
        {
          "output_type": "execute_result",
          "data": {
            "text/html": [
              "<div>\n",
              "<style scoped>\n",
              "    .dataframe tbody tr th:only-of-type {\n",
              "        vertical-align: middle;\n",
              "    }\n",
              "\n",
              "    .dataframe tbody tr th {\n",
              "        vertical-align: top;\n",
              "    }\n",
              "\n",
              "    .dataframe thead th {\n",
              "        text-align: right;\n",
              "    }\n",
              "</style>\n",
              "<table border=\"1\" class=\"dataframe\">\n",
              "  <thead>\n",
              "    <tr style=\"text-align: right;\">\n",
              "      <th></th>\n",
              "      <th>Patient</th>\n",
              "      <th>Age</th>\n",
              "      <th>Sex</th>\n",
              "      <th>SmokingStatus</th>\n",
              "      <th>(Weeks, amin)</th>\n",
              "      <th>(Weeks, amax)</th>\n",
              "      <th>(Weeks, mean)</th>\n",
              "      <th>(Weeks, std)</th>\n",
              "      <th>(FVC, amin)</th>\n",
              "      <th>(FVC, amax)</th>\n",
              "      <th>(FVC, mean)</th>\n",
              "      <th>(FVC, std)</th>\n",
              "      <th>(Percent, amin)</th>\n",
              "      <th>(Percent, amax)</th>\n",
              "      <th>(Percent, mean)</th>\n",
              "      <th>(Percent, std)</th>\n",
              "    </tr>\n",
              "  </thead>\n",
              "  <tbody>\n",
              "    <tr>\n",
              "      <th>0</th>\n",
              "      <td>ID00007637202177411956430</td>\n",
              "      <td>79</td>\n",
              "      <td>Male</td>\n",
              "      <td>Ex-smoker</td>\n",
              "      <td>-4</td>\n",
              "      <td>57</td>\n",
              "      <td>19</td>\n",
              "      <td>19</td>\n",
              "      <td>2000</td>\n",
              "      <td>2315</td>\n",
              "      <td>2113</td>\n",
              "      <td>96</td>\n",
              "      <td>50</td>\n",
              "      <td>58</td>\n",
              "      <td>53</td>\n",
              "      <td>2</td>\n",
              "    </tr>\n",
              "    <tr>\n",
              "      <th>9</th>\n",
              "      <td>ID00009637202177434476278</td>\n",
              "      <td>69</td>\n",
              "      <td>Male</td>\n",
              "      <td>Ex-smoker</td>\n",
              "      <td>8</td>\n",
              "      <td>60</td>\n",
              "      <td>24</td>\n",
              "      <td>18</td>\n",
              "      <td>3214</td>\n",
              "      <td>3895</td>\n",
              "      <td>3596</td>\n",
              "      <td>197</td>\n",
              "      <td>74</td>\n",
              "      <td>90</td>\n",
              "      <td>83</td>\n",
              "      <td>4</td>\n",
              "    </tr>\n",
              "    <tr>\n",
              "      <th>18</th>\n",
              "      <td>ID00010637202177584971671</td>\n",
              "      <td>60</td>\n",
              "      <td>Male</td>\n",
              "      <td>Ex-smoker</td>\n",
              "      <td>0</td>\n",
              "      <td>54</td>\n",
              "      <td>16</td>\n",
              "      <td>18</td>\n",
              "      <td>2474</td>\n",
              "      <td>3523</td>\n",
              "      <td>3037</td>\n",
              "      <td>358</td>\n",
              "      <td>66</td>\n",
              "      <td>94</td>\n",
              "      <td>81</td>\n",
              "      <td>9</td>\n",
              "    </tr>\n",
              "    <tr>\n",
              "      <th>27</th>\n",
              "      <td>ID00011637202177653955184</td>\n",
              "      <td>72</td>\n",
              "      <td>Male</td>\n",
              "      <td>Ex-smoker</td>\n",
              "      <td>6</td>\n",
              "      <td>58</td>\n",
              "      <td>22</td>\n",
              "      <td>18</td>\n",
              "      <td>3193</td>\n",
              "      <td>3541</td>\n",
              "      <td>3387</td>\n",
              "      <td>113</td>\n",
              "      <td>82</td>\n",
              "      <td>91</td>\n",
              "      <td>87</td>\n",
              "      <td>2</td>\n",
              "    </tr>\n",
              "    <tr>\n",
              "      <th>36</th>\n",
              "      <td>ID00012637202177665765362</td>\n",
              "      <td>65</td>\n",
              "      <td>Male</td>\n",
              "      <td>Never smoked</td>\n",
              "      <td>33</td>\n",
              "      <td>87</td>\n",
              "      <td>49</td>\n",
              "      <td>18</td>\n",
              "      <td>2971</td>\n",
              "      <td>3759</td>\n",
              "      <td>3348</td>\n",
              "      <td>212</td>\n",
              "      <td>81</td>\n",
              "      <td>103</td>\n",
              "      <td>91</td>\n",
              "      <td>5</td>\n",
              "    </tr>\n",
              "  </tbody>\n",
              "</table>\n",
              "</div>"
            ],
            "text/plain": [
              "                      Patient  Age  ... (Percent, mean) (Percent, std)\n",
              "0   ID00007637202177411956430   79  ...              53              2\n",
              "9   ID00009637202177434476278   69  ...              83              4\n",
              "18  ID00010637202177584971671   60  ...              81              9\n",
              "27  ID00011637202177653955184   72  ...              87              2\n",
              "36  ID00012637202177665765362   65  ...              91              5\n",
              "\n",
              "[5 rows x 16 columns]"
            ]
          },
          "metadata": {
            "tags": []
          },
          "execution_count": 13
        }
      ]
    },
    {
      "cell_type": "code",
      "metadata": {
        "colab": {
          "base_uri": "https://localhost:8080/",
          "height": 324
        },
        "id": "iNrY0-eVktJf",
        "outputId": "a346455e-dc70-4735-c9ef-11043a96be3c"
      },
      "source": [
        "patient_data['Sex'].value_counts(normalize = True).plot(kind = 'bar',title = 'Gender Distribution')"
      ],
      "execution_count": null,
      "outputs": [
        {
          "output_type": "execute_result",
          "data": {
            "text/plain": [
              "<matplotlib.axes._subplots.AxesSubplot at 0x7f7a2855c750>"
            ]
          },
          "metadata": {
            "tags": []
          },
          "execution_count": 14
        },
        {
          "output_type": "display_data",
          "data": {
            "image/png": "[encoded data removed]",
            "text/plain": [
              "<Figure size 432x288 with 1 Axes>"
            ]
          },
          "metadata": {
            "tags": [],
            "needs_background": "light"
          }
        }
      ]
    },
    {
      "cell_type": "code",
      "metadata": {
        "colab": {
          "base_uri": "https://localhost:8080/",
          "height": 534
        },
        "id": "E2Et8_hinTnH",
        "outputId": "b3352760-52d2-491e-d4cd-747e49e520bc"
      },
      "source": [
        "data = patient_data.Age.tolist()\n",
        "hist(data,15,'Age')"
      ],
      "execution_count": null,
      "outputs": [
        {
          "output_type": "display_data",
          "data": {
            "image/png": "[encoded data removed]",
            "text/plain": [
              "<Figure size 1440x720 with 1 Axes>"
            ]
          },
          "metadata": {
            "tags": [],
            "needs_background": "light"
          }
        }
      ]
    },
    {
      "cell_type": "code",
      "metadata": {
        "colab": {
          "base_uri": "https://localhost:8080/",
          "height": 375
        },
        "id": "eiRDefLUwfGs",
        "outputId": "27da2303-541f-4613-9969-b4241d6297f5"
      },
      "source": [
        "patient_data['SmokingStatus'].value_counts(normalize = True).plot(kind = 'bar',title = 'SmokingStatus Distribution')"
      ],
      "execution_count": null,
      "outputs": [
        {
          "output_type": "execute_result",
          "data": {
            "text/plain": [
              "<matplotlib.axes._subplots.AxesSubplot at 0x7f7a27f97290>"
            ]
          },
          "metadata": {
            "tags": []
          },
          "execution_count": 16
        },
        {
          "output_type": "display_data",
          "data": {
            "image/png": "[encoded data removed]",
            "text/plain": [
              "<Figure size 432x288 with 1 Axes>"
            ]
          },
          "metadata": {
            "tags": [],
            "needs_background": "light"
          }
        }
      ]
    },
    {
      "cell_type": "code",
      "metadata": {
        "colab": {
          "base_uri": "https://localhost:8080/",
          "height": 703
        },
        "id": "wPa1cfoZ3n9y",
        "outputId": "0ca7aed2-9ef6-4047-e359-ba45f5fd5863"
      },
      "source": [
        "patient_data.corr()"
      ],
      "execution_count": null,
      "outputs": [
        {
          "output_type": "execute_result",
          "data": {
            "text/html": [
              "<div>\n",
              "<style scoped>\n",
              "    .dataframe tbody tr th:only-of-type {\n",
              "        vertical-align: middle;\n",
              "    }\n",
              "\n",
              "    .dataframe tbody tr th {\n",
              "        vertical-align: top;\n",
              "    }\n",
              "\n",
              "    .dataframe thead th {\n",
              "        text-align: right;\n",
              "    }\n",
              "</style>\n",
              "<table border=\"1\" class=\"dataframe\">\n",
              "  <thead>\n",
              "    <tr style=\"text-align: right;\">\n",
              "      <th></th>\n",
              "      <th>Age</th>\n",
              "      <th>(Weeks, amin)</th>\n",
              "      <th>(Weeks, amax)</th>\n",
              "      <th>(Weeks, mean)</th>\n",
              "      <th>(Weeks, std)</th>\n",
              "      <th>(FVC, amin)</th>\n",
              "      <th>(FVC, amax)</th>\n",
              "      <th>(FVC, mean)</th>\n",
              "      <th>(FVC, std)</th>\n",
              "      <th>(Percent, amin)</th>\n",
              "      <th>(Percent, amax)</th>\n",
              "      <th>(Percent, mean)</th>\n",
              "      <th>(Percent, std)</th>\n",
              "    </tr>\n",
              "  </thead>\n",
              "  <tbody>\n",
              "    <tr>\n",
              "      <th>Age</th>\n",
              "      <td>1.000000</td>\n",
              "      <td>-0.062681</td>\n",
              "      <td>-0.110575</td>\n",
              "      <td>-0.089393</td>\n",
              "      <td>-0.152816</td>\n",
              "      <td>-0.060304</td>\n",
              "      <td>-0.096552</td>\n",
              "      <td>-0.094155</td>\n",
              "      <td>-0.120353</td>\n",
              "      <td>0.130581</td>\n",
              "      <td>0.118747</td>\n",
              "      <td>0.104434</td>\n",
              "      <td>-0.017360</td>\n",
              "    </tr>\n",
              "    <tr>\n",
              "      <th>(Weeks, amin)</th>\n",
              "      <td>-0.062681</td>\n",
              "      <td>1.000000</td>\n",
              "      <td>0.889553</td>\n",
              "      <td>0.976865</td>\n",
              "      <td>0.032169</td>\n",
              "      <td>-0.034638</td>\n",
              "      <td>-0.023629</td>\n",
              "      <td>-0.014274</td>\n",
              "      <td>0.028718</td>\n",
              "      <td>0.036571</td>\n",
              "      <td>0.069021</td>\n",
              "      <td>0.074094</td>\n",
              "      <td>0.075038</td>\n",
              "    </tr>\n",
              "    <tr>\n",
              "      <th>(Weeks, amax)</th>\n",
              "      <td>-0.110575</td>\n",
              "      <td>0.889553</td>\n",
              "      <td>1.000000</td>\n",
              "      <td>0.957101</td>\n",
              "      <td>0.467163</td>\n",
              "      <td>0.078586</td>\n",
              "      <td>0.087884</td>\n",
              "      <td>0.095761</td>\n",
              "      <td>0.028908</td>\n",
              "      <td>0.113692</td>\n",
              "      <td>0.141089</td>\n",
              "      <td>0.146583</td>\n",
              "      <td>0.059168</td>\n",
              "    </tr>\n",
              "    <tr>\n",
              "      <th>(Weeks, mean)</th>\n",
              "      <td>-0.089393</td>\n",
              "      <td>0.976865</td>\n",
              "      <td>0.957101</td>\n",
              "      <td>1.000000</td>\n",
              "      <td>0.211708</td>\n",
              "      <td>0.020049</td>\n",
              "      <td>0.030640</td>\n",
              "      <td>0.040277</td>\n",
              "      <td>0.033106</td>\n",
              "      <td>0.070019</td>\n",
              "      <td>0.099348</td>\n",
              "      <td>0.106285</td>\n",
              "      <td>0.068645</td>\n",
              "    </tr>\n",
              "    <tr>\n",
              "      <th>(Weeks, std)</th>\n",
              "      <td>-0.152816</td>\n",
              "      <td>0.032169</td>\n",
              "      <td>0.467163</td>\n",
              "      <td>0.211708</td>\n",
              "      <td>1.000000</td>\n",
              "      <td>0.235340</td>\n",
              "      <td>0.231065</td>\n",
              "      <td>0.232283</td>\n",
              "      <td>-0.004267</td>\n",
              "      <td>0.161929</td>\n",
              "      <td>0.158447</td>\n",
              "      <td>0.160441</td>\n",
              "      <td>-0.022591</td>\n",
              "    </tr>\n",
              "    <tr>\n",
              "      <th>(FVC, amin)</th>\n",
              "      <td>-0.060304</td>\n",
              "      <td>-0.034638</td>\n",
              "      <td>0.078586</td>\n",
              "      <td>0.020049</td>\n",
              "      <td>0.235340</td>\n",
              "      <td>1.000000</td>\n",
              "      <td>0.945436</td>\n",
              "      <td>0.971286</td>\n",
              "      <td>-0.007867</td>\n",
              "      <td>0.706808</td>\n",
              "      <td>0.590076</td>\n",
              "      <td>0.644450</td>\n",
              "      <td>-0.234662</td>\n",
              "    </tr>\n",
              "    <tr>\n",
              "      <th>(FVC, amax)</th>\n",
              "      <td>-0.096552</td>\n",
              "      <td>-0.023629</td>\n",
              "      <td>0.087884</td>\n",
              "      <td>0.030640</td>\n",
              "      <td>0.231065</td>\n",
              "      <td>0.945436</td>\n",
              "      <td>1.000000</td>\n",
              "      <td>0.989548</td>\n",
              "      <td>0.310188</td>\n",
              "      <td>0.615036</td>\n",
              "      <td>0.624852</td>\n",
              "      <td>0.635351</td>\n",
              "      <td>0.063001</td>\n",
              "    </tr>\n",
              "    <tr>\n",
              "      <th>(FVC, mean)</th>\n",
              "      <td>-0.094155</td>\n",
              "      <td>-0.014274</td>\n",
              "      <td>0.095761</td>\n",
              "      <td>0.040277</td>\n",
              "      <td>0.232283</td>\n",
              "      <td>0.971286</td>\n",
              "      <td>0.989548</td>\n",
              "      <td>1.000000</td>\n",
              "      <td>0.203599</td>\n",
              "      <td>0.655605</td>\n",
              "      <td>0.622241</td>\n",
              "      <td>0.658782</td>\n",
              "      <td>-0.038596</td>\n",
              "    </tr>\n",
              "    <tr>\n",
              "      <th>(FVC, std)</th>\n",
              "      <td>-0.120353</td>\n",
              "      <td>0.028718</td>\n",
              "      <td>0.028908</td>\n",
              "      <td>0.033106</td>\n",
              "      <td>-0.004267</td>\n",
              "      <td>-0.007867</td>\n",
              "      <td>0.310188</td>\n",
              "      <td>0.203599</td>\n",
              "      <td>1.000000</td>\n",
              "      <td>-0.168898</td>\n",
              "      <td>0.190397</td>\n",
              "      <td>0.066219</td>\n",
              "      <td>0.897371</td>\n",
              "    </tr>\n",
              "    <tr>\n",
              "      <th>(Percent, amin)</th>\n",
              "      <td>0.130581</td>\n",
              "      <td>0.036571</td>\n",
              "      <td>0.113692</td>\n",
              "      <td>0.070019</td>\n",
              "      <td>0.161929</td>\n",
              "      <td>0.706808</td>\n",
              "      <td>0.615036</td>\n",
              "      <td>0.655605</td>\n",
              "      <td>-0.168898</td>\n",
              "      <td>1.000000</td>\n",
              "      <td>0.916996</td>\n",
              "      <td>0.958926</td>\n",
              "      <td>-0.115781</td>\n",
              "    </tr>\n",
              "    <tr>\n",
              "      <th>(Percent, amax)</th>\n",
              "      <td>0.118747</td>\n",
              "      <td>0.069021</td>\n",
              "      <td>0.141089</td>\n",
              "      <td>0.099348</td>\n",
              "      <td>0.158447</td>\n",
              "      <td>0.590076</td>\n",
              "      <td>0.624852</td>\n",
              "      <td>0.622241</td>\n",
              "      <td>0.190397</td>\n",
              "      <td>0.916996</td>\n",
              "      <td>1.000000</td>\n",
              "      <td>0.981284</td>\n",
              "      <td>0.278022</td>\n",
              "    </tr>\n",
              "    <tr>\n",
              "      <th>(Percent, mean)</th>\n",
              "      <td>0.104434</td>\n",
              "      <td>0.074094</td>\n",
              "      <td>0.146583</td>\n",
              "      <td>0.106285</td>\n",
              "      <td>0.160441</td>\n",
              "      <td>0.644450</td>\n",
              "      <td>0.635351</td>\n",
              "      <td>0.658782</td>\n",
              "      <td>0.066219</td>\n",
              "      <td>0.958926</td>\n",
              "      <td>0.981284</td>\n",
              "      <td>1.000000</td>\n",
              "      <td>0.134490</td>\n",
              "    </tr>\n",
              "    <tr>\n",
              "      <th>(Percent, std)</th>\n",
              "      <td>-0.017360</td>\n",
              "      <td>0.075038</td>\n",
              "      <td>0.059168</td>\n",
              "      <td>0.068645</td>\n",
              "      <td>-0.022591</td>\n",
              "      <td>-0.234662</td>\n",
              "      <td>0.063001</td>\n",
              "      <td>-0.038596</td>\n",
              "      <td>0.897371</td>\n",
              "      <td>-0.115781</td>\n",
              "      <td>0.278022</td>\n",
              "      <td>0.134490</td>\n",
              "      <td>1.000000</td>\n",
              "    </tr>\n",
              "  </tbody>\n",
              "</table>\n",
              "</div>"
            ],
            "text/plain": [
              "                      Age  (Weeks, amin)  ...  (Percent, mean)  (Percent, std)\n",
              "Age              1.000000      -0.062681  ...         0.104434       -0.017360\n",
              "(Weeks, amin)   -0.062681       1.000000  ...         0.074094        0.075038\n",
              "(Weeks, amax)   -0.110575       0.889553  ...         0.146583        0.059168\n",
              "(Weeks, mean)   -0.089393       0.976865  ...         0.106285        0.068645\n",
              "(Weeks, std)    -0.152816       0.032169  ...         0.160441       -0.022591\n",
              "(FVC, amin)     -0.060304      -0.034638  ...         0.644450       -0.234662\n",
              "(FVC, amax)     -0.096552      -0.023629  ...         0.635351        0.063001\n",
              "(FVC, mean)     -0.094155      -0.014274  ...         0.658782       -0.038596\n",
              "(FVC, std)      -0.120353       0.028718  ...         0.066219        0.897371\n",
              "(Percent, amin)  0.130581       0.036571  ...         0.958926       -0.115781\n",
              "(Percent, amax)  0.118747       0.069021  ...         0.981284        0.278022\n",
              "(Percent, mean)  0.104434       0.074094  ...         1.000000        0.134490\n",
              "(Percent, std)  -0.017360       0.075038  ...         0.134490        1.000000\n",
              "\n",
              "[13 rows x 13 columns]"
            ]
          },
          "metadata": {
            "tags": []
          },
          "execution_count": 14
        }
      ]
    },
    {
      "cell_type": "code",
      "metadata": {
        "id": "YdB0OAIcfcrs"
      },
      "source": [
        "patient_data['decade'] = patient_data['Age'] // 10"
      ],
      "execution_count": null,
      "outputs": []
    },
    {
      "cell_type": "code",
      "metadata": {
        "colab": {
          "base_uri": "https://localhost:8080/",
          "height": 243
        },
        "id": "W33iKOA7f7Th",
        "outputId": "94663a65-00f3-4f31-c54c-d9e68af8cd7e"
      },
      "source": [
        "patient_data.head()"
      ],
      "execution_count": null,
      "outputs": [
        {
          "output_type": "execute_result",
          "data": {
            "text/html": [
              "<div>\n",
              "<style scoped>\n",
              "    .dataframe tbody tr th:only-of-type {\n",
              "        vertical-align: middle;\n",
              "    }\n",
              "\n",
              "    .dataframe tbody tr th {\n",
              "        vertical-align: top;\n",
              "    }\n",
              "\n",
              "    .dataframe thead th {\n",
              "        text-align: right;\n",
              "    }\n",
              "</style>\n",
              "<table border=\"1\" class=\"dataframe\">\n",
              "  <thead>\n",
              "    <tr style=\"text-align: right;\">\n",
              "      <th></th>\n",
              "      <th>Patient</th>\n",
              "      <th>Age</th>\n",
              "      <th>Sex</th>\n",
              "      <th>SmokingStatus</th>\n",
              "      <th>(Weeks, amin)</th>\n",
              "      <th>(Weeks, amax)</th>\n",
              "      <th>(Weeks, mean)</th>\n",
              "      <th>(Weeks, std)</th>\n",
              "      <th>(FVC, amin)</th>\n",
              "      <th>(FVC, amax)</th>\n",
              "      <th>(FVC, mean)</th>\n",
              "      <th>(FVC, std)</th>\n",
              "      <th>(Percent, amin)</th>\n",
              "      <th>(Percent, amax)</th>\n",
              "      <th>(Percent, mean)</th>\n",
              "      <th>(Percent, std)</th>\n",
              "      <th>decade</th>\n",
              "    </tr>\n",
              "  </thead>\n",
              "  <tbody>\n",
              "    <tr>\n",
              "      <th>0</th>\n",
              "      <td>ID00007637202177411956430</td>\n",
              "      <td>79</td>\n",
              "      <td>Male</td>\n",
              "      <td>Ex-smoker</td>\n",
              "      <td>-4</td>\n",
              "      <td>57</td>\n",
              "      <td>19</td>\n",
              "      <td>19</td>\n",
              "      <td>2000</td>\n",
              "      <td>2315</td>\n",
              "      <td>2113</td>\n",
              "      <td>96</td>\n",
              "      <td>50</td>\n",
              "      <td>58</td>\n",
              "      <td>53</td>\n",
              "      <td>2</td>\n",
              "      <td>7</td>\n",
              "    </tr>\n",
              "    <tr>\n",
              "      <th>9</th>\n",
              "      <td>ID00009637202177434476278</td>\n",
              "      <td>69</td>\n",
              "      <td>Male</td>\n",
              "      <td>Ex-smoker</td>\n",
              "      <td>8</td>\n",
              "      <td>60</td>\n",
              "      <td>24</td>\n",
              "      <td>18</td>\n",
              "      <td>3214</td>\n",
              "      <td>3895</td>\n",
              "      <td>3596</td>\n",
              "      <td>197</td>\n",
              "      <td>74</td>\n",
              "      <td>90</td>\n",
              "      <td>83</td>\n",
              "      <td>4</td>\n",
              "      <td>6</td>\n",
              "    </tr>\n",
              "    <tr>\n",
              "      <th>18</th>\n",
              "      <td>ID00010637202177584971671</td>\n",
              "      <td>60</td>\n",
              "      <td>Male</td>\n",
              "      <td>Ex-smoker</td>\n",
              "      <td>0</td>\n",
              "      <td>54</td>\n",
              "      <td>16</td>\n",
              "      <td>18</td>\n",
              "      <td>2474</td>\n",
              "      <td>3523</td>\n",
              "      <td>3037</td>\n",
              "      <td>358</td>\n",
              "      <td>66</td>\n",
              "      <td>94</td>\n",
              "      <td>81</td>\n",
              "      <td>9</td>\n",
              "      <td>6</td>\n",
              "    </tr>\n",
              "    <tr>\n",
              "      <th>27</th>\n",
              "      <td>ID00011637202177653955184</td>\n",
              "      <td>72</td>\n",
              "      <td>Male</td>\n",
              "      <td>Ex-smoker</td>\n",
              "      <td>6</td>\n",
              "      <td>58</td>\n",
              "      <td>22</td>\n",
              "      <td>18</td>\n",
              "      <td>3193</td>\n",
              "      <td>3541</td>\n",
              "      <td>3387</td>\n",
              "      <td>113</td>\n",
              "      <td>82</td>\n",
              "      <td>91</td>\n",
              "      <td>87</td>\n",
              "      <td>2</td>\n",
              "      <td>7</td>\n",
              "    </tr>\n",
              "    <tr>\n",
              "      <th>36</th>\n",
              "      <td>ID00012637202177665765362</td>\n",
              "      <td>65</td>\n",
              "      <td>Male</td>\n",
              "      <td>Never smoked</td>\n",
              "      <td>33</td>\n",
              "      <td>87</td>\n",
              "      <td>49</td>\n",
              "      <td>18</td>\n",
              "      <td>2971</td>\n",
              "      <td>3759</td>\n",
              "      <td>3348</td>\n",
              "      <td>212</td>\n",
              "      <td>81</td>\n",
              "      <td>103</td>\n",
              "      <td>91</td>\n",
              "      <td>5</td>\n",
              "      <td>6</td>\n",
              "    </tr>\n",
              "  </tbody>\n",
              "</table>\n",
              "</div>"
            ],
            "text/plain": [
              "                      Patient  Age  ... (Percent, std) decade\n",
              "0   ID00007637202177411956430   79  ...              2      7\n",
              "9   ID00009637202177434476278   69  ...              4      6\n",
              "18  ID00010637202177584971671   60  ...              9      6\n",
              "27  ID00011637202177653955184   72  ...              2      7\n",
              "36  ID00012637202177665765362   65  ...              5      6\n",
              "\n",
              "[5 rows x 17 columns]"
            ]
          },
          "metadata": {
            "tags": []
          },
          "execution_count": 16
        }
      ]
    },
    {
      "cell_type": "code",
      "metadata": {
        "colab": {
          "base_uri": "https://localhost:8080/",
          "height": 734
        },
        "id": "ggSY9tEFgNjH",
        "outputId": "9f0d2621-22dd-4587-fd4a-3f562f5cfea0"
      },
      "source": [
        "patient_data.corr()"
      ],
      "execution_count": null,
      "outputs": [
        {
          "output_type": "execute_result",
          "data": {
            "text/html": [
              "<div>\n",
              "<style scoped>\n",
              "    .dataframe tbody tr th:only-of-type {\n",
              "        vertical-align: middle;\n",
              "    }\n",
              "\n",
              "    .dataframe tbody tr th {\n",
              "        vertical-align: top;\n",
              "    }\n",
              "\n",
              "    .dataframe thead th {\n",
              "        text-align: right;\n",
              "    }\n",
              "</style>\n",
              "<table border=\"1\" class=\"dataframe\">\n",
              "  <thead>\n",
              "    <tr style=\"text-align: right;\">\n",
              "      <th></th>\n",
              "      <th>Age</th>\n",
              "      <th>(Weeks, amin)</th>\n",
              "      <th>(Weeks, amax)</th>\n",
              "      <th>(Weeks, mean)</th>\n",
              "      <th>(Weeks, std)</th>\n",
              "      <th>(FVC, amin)</th>\n",
              "      <th>(FVC, amax)</th>\n",
              "      <th>(FVC, mean)</th>\n",
              "      <th>(FVC, std)</th>\n",
              "      <th>(Percent, amin)</th>\n",
              "      <th>(Percent, amax)</th>\n",
              "      <th>(Percent, mean)</th>\n",
              "      <th>(Percent, std)</th>\n",
              "      <th>decade</th>\n",
              "    </tr>\n",
              "  </thead>\n",
              "  <tbody>\n",
              "    <tr>\n",
              "      <th>Age</th>\n",
              "      <td>1.000000</td>\n",
              "      <td>-0.062681</td>\n",
              "      <td>-0.110575</td>\n",
              "      <td>-0.089393</td>\n",
              "      <td>-0.152816</td>\n",
              "      <td>-0.060304</td>\n",
              "      <td>-0.096552</td>\n",
              "      <td>-0.094155</td>\n",
              "      <td>-0.120353</td>\n",
              "      <td>0.130581</td>\n",
              "      <td>0.118747</td>\n",
              "      <td>0.104434</td>\n",
              "      <td>-0.017360</td>\n",
              "      <td>0.929387</td>\n",
              "    </tr>\n",
              "    <tr>\n",
              "      <th>(Weeks, amin)</th>\n",
              "      <td>-0.062681</td>\n",
              "      <td>1.000000</td>\n",
              "      <td>0.889553</td>\n",
              "      <td>0.976865</td>\n",
              "      <td>0.032169</td>\n",
              "      <td>-0.034638</td>\n",
              "      <td>-0.023629</td>\n",
              "      <td>-0.014274</td>\n",
              "      <td>0.028718</td>\n",
              "      <td>0.036571</td>\n",
              "      <td>0.069021</td>\n",
              "      <td>0.074094</td>\n",
              "      <td>0.075038</td>\n",
              "      <td>-0.074469</td>\n",
              "    </tr>\n",
              "    <tr>\n",
              "      <th>(Weeks, amax)</th>\n",
              "      <td>-0.110575</td>\n",
              "      <td>0.889553</td>\n",
              "      <td>1.000000</td>\n",
              "      <td>0.957101</td>\n",
              "      <td>0.467163</td>\n",
              "      <td>0.078586</td>\n",
              "      <td>0.087884</td>\n",
              "      <td>0.095761</td>\n",
              "      <td>0.028908</td>\n",
              "      <td>0.113692</td>\n",
              "      <td>0.141089</td>\n",
              "      <td>0.146583</td>\n",
              "      <td>0.059168</td>\n",
              "      <td>-0.121218</td>\n",
              "    </tr>\n",
              "    <tr>\n",
              "      <th>(Weeks, mean)</th>\n",
              "      <td>-0.089393</td>\n",
              "      <td>0.976865</td>\n",
              "      <td>0.957101</td>\n",
              "      <td>1.000000</td>\n",
              "      <td>0.211708</td>\n",
              "      <td>0.020049</td>\n",
              "      <td>0.030640</td>\n",
              "      <td>0.040277</td>\n",
              "      <td>0.033106</td>\n",
              "      <td>0.070019</td>\n",
              "      <td>0.099348</td>\n",
              "      <td>0.106285</td>\n",
              "      <td>0.068645</td>\n",
              "      <td>-0.108210</td>\n",
              "    </tr>\n",
              "    <tr>\n",
              "      <th>(Weeks, std)</th>\n",
              "      <td>-0.152816</td>\n",
              "      <td>0.032169</td>\n",
              "      <td>0.467163</td>\n",
              "      <td>0.211708</td>\n",
              "      <td>1.000000</td>\n",
              "      <td>0.235340</td>\n",
              "      <td>0.231065</td>\n",
              "      <td>0.232283</td>\n",
              "      <td>-0.004267</td>\n",
              "      <td>0.161929</td>\n",
              "      <td>0.158447</td>\n",
              "      <td>0.160441</td>\n",
              "      <td>-0.022591</td>\n",
              "      <td>-0.149741</td>\n",
              "    </tr>\n",
              "    <tr>\n",
              "      <th>(FVC, amin)</th>\n",
              "      <td>-0.060304</td>\n",
              "      <td>-0.034638</td>\n",
              "      <td>0.078586</td>\n",
              "      <td>0.020049</td>\n",
              "      <td>0.235340</td>\n",
              "      <td>1.000000</td>\n",
              "      <td>0.945436</td>\n",
              "      <td>0.971286</td>\n",
              "      <td>-0.007867</td>\n",
              "      <td>0.706808</td>\n",
              "      <td>0.590076</td>\n",
              "      <td>0.644450</td>\n",
              "      <td>-0.234662</td>\n",
              "      <td>-0.066280</td>\n",
              "    </tr>\n",
              "    <tr>\n",
              "      <th>(FVC, amax)</th>\n",
              "      <td>-0.096552</td>\n",
              "      <td>-0.023629</td>\n",
              "      <td>0.087884</td>\n",
              "      <td>0.030640</td>\n",
              "      <td>0.231065</td>\n",
              "      <td>0.945436</td>\n",
              "      <td>1.000000</td>\n",
              "      <td>0.989548</td>\n",
              "      <td>0.310188</td>\n",
              "      <td>0.615036</td>\n",
              "      <td>0.624852</td>\n",
              "      <td>0.635351</td>\n",
              "      <td>0.063001</td>\n",
              "      <td>-0.102565</td>\n",
              "    </tr>\n",
              "    <tr>\n",
              "      <th>(FVC, mean)</th>\n",
              "      <td>-0.094155</td>\n",
              "      <td>-0.014274</td>\n",
              "      <td>0.095761</td>\n",
              "      <td>0.040277</td>\n",
              "      <td>0.232283</td>\n",
              "      <td>0.971286</td>\n",
              "      <td>0.989548</td>\n",
              "      <td>1.000000</td>\n",
              "      <td>0.203599</td>\n",
              "      <td>0.655605</td>\n",
              "      <td>0.622241</td>\n",
              "      <td>0.658782</td>\n",
              "      <td>-0.038596</td>\n",
              "      <td>-0.100666</td>\n",
              "    </tr>\n",
              "    <tr>\n",
              "      <th>(FVC, std)</th>\n",
              "      <td>-0.120353</td>\n",
              "      <td>0.028718</td>\n",
              "      <td>0.028908</td>\n",
              "      <td>0.033106</td>\n",
              "      <td>-0.004267</td>\n",
              "      <td>-0.007867</td>\n",
              "      <td>0.310188</td>\n",
              "      <td>0.203599</td>\n",
              "      <td>1.000000</td>\n",
              "      <td>-0.168898</td>\n",
              "      <td>0.190397</td>\n",
              "      <td>0.066219</td>\n",
              "      <td>0.897371</td>\n",
              "      <td>-0.118063</td>\n",
              "    </tr>\n",
              "    <tr>\n",
              "      <th>(Percent, amin)</th>\n",
              "      <td>0.130581</td>\n",
              "      <td>0.036571</td>\n",
              "      <td>0.113692</td>\n",
              "      <td>0.070019</td>\n",
              "      <td>0.161929</td>\n",
              "      <td>0.706808</td>\n",
              "      <td>0.615036</td>\n",
              "      <td>0.655605</td>\n",
              "      <td>-0.168898</td>\n",
              "      <td>1.000000</td>\n",
              "      <td>0.916996</td>\n",
              "      <td>0.958926</td>\n",
              "      <td>-0.115781</td>\n",
              "      <td>0.094145</td>\n",
              "    </tr>\n",
              "    <tr>\n",
              "      <th>(Percent, amax)</th>\n",
              "      <td>0.118747</td>\n",
              "      <td>0.069021</td>\n",
              "      <td>0.141089</td>\n",
              "      <td>0.099348</td>\n",
              "      <td>0.158447</td>\n",
              "      <td>0.590076</td>\n",
              "      <td>0.624852</td>\n",
              "      <td>0.622241</td>\n",
              "      <td>0.190397</td>\n",
              "      <td>0.916996</td>\n",
              "      <td>1.000000</td>\n",
              "      <td>0.981284</td>\n",
              "      <td>0.278022</td>\n",
              "      <td>0.077160</td>\n",
              "    </tr>\n",
              "    <tr>\n",
              "      <th>(Percent, mean)</th>\n",
              "      <td>0.104434</td>\n",
              "      <td>0.074094</td>\n",
              "      <td>0.146583</td>\n",
              "      <td>0.106285</td>\n",
              "      <td>0.160441</td>\n",
              "      <td>0.644450</td>\n",
              "      <td>0.635351</td>\n",
              "      <td>0.658782</td>\n",
              "      <td>0.066219</td>\n",
              "      <td>0.958926</td>\n",
              "      <td>0.981284</td>\n",
              "      <td>1.000000</td>\n",
              "      <td>0.134490</td>\n",
              "      <td>0.064962</td>\n",
              "    </tr>\n",
              "    <tr>\n",
              "      <th>(Percent, std)</th>\n",
              "      <td>-0.017360</td>\n",
              "      <td>0.075038</td>\n",
              "      <td>0.059168</td>\n",
              "      <td>0.068645</td>\n",
              "      <td>-0.022591</td>\n",
              "      <td>-0.234662</td>\n",
              "      <td>0.063001</td>\n",
              "      <td>-0.038596</td>\n",
              "      <td>0.897371</td>\n",
              "      <td>-0.115781</td>\n",
              "      <td>0.278022</td>\n",
              "      <td>0.134490</td>\n",
              "      <td>1.000000</td>\n",
              "      <td>-0.028219</td>\n",
              "    </tr>\n",
              "    <tr>\n",
              "      <th>decade</th>\n",
              "      <td>0.929387</td>\n",
              "      <td>-0.074469</td>\n",
              "      <td>-0.121218</td>\n",
              "      <td>-0.108210</td>\n",
              "      <td>-0.149741</td>\n",
              "      <td>-0.066280</td>\n",
              "      <td>-0.102565</td>\n",
              "      <td>-0.100666</td>\n",
              "      <td>-0.118063</td>\n",
              "      <td>0.094145</td>\n",
              "      <td>0.077160</td>\n",
              "      <td>0.064962</td>\n",
              "      <td>-0.028219</td>\n",
              "      <td>1.000000</td>\n",
              "    </tr>\n",
              "  </tbody>\n",
              "</table>\n",
              "</div>"
            ],
            "text/plain": [
              "                      Age  (Weeks, amin)  ...  (Percent, std)    decade\n",
              "Age              1.000000      -0.062681  ...       -0.017360  0.929387\n",
              "(Weeks, amin)   -0.062681       1.000000  ...        0.075038 -0.074469\n",
              "(Weeks, amax)   -0.110575       0.889553  ...        0.059168 -0.121218\n",
              "(Weeks, mean)   -0.089393       0.976865  ...        0.068645 -0.108210\n",
              "(Weeks, std)    -0.152816       0.032169  ...       -0.022591 -0.149741\n",
              "(FVC, amin)     -0.060304      -0.034638  ...       -0.234662 -0.066280\n",
              "(FVC, amax)     -0.096552      -0.023629  ...        0.063001 -0.102565\n",
              "(FVC, mean)     -0.094155      -0.014274  ...       -0.038596 -0.100666\n",
              "(FVC, std)      -0.120353       0.028718  ...        0.897371 -0.118063\n",
              "(Percent, amin)  0.130581       0.036571  ...       -0.115781  0.094145\n",
              "(Percent, amax)  0.118747       0.069021  ...        0.278022  0.077160\n",
              "(Percent, mean)  0.104434       0.074094  ...        0.134490  0.064962\n",
              "(Percent, std)  -0.017360       0.075038  ...        1.000000 -0.028219\n",
              "decade           0.929387      -0.074469  ...       -0.028219  1.000000\n",
              "\n",
              "[14 rows x 14 columns]"
            ]
          },
          "metadata": {
            "tags": []
          },
          "execution_count": 17
        }
      ]
    },
    {
      "cell_type": "code",
      "metadata": {
        "colab": {
          "base_uri": "https://localhost:8080/",
          "height": 528
        },
        "id": "ZHCAk0tg59Zl",
        "outputId": "b1d44cc3-61fe-4ecd-bfbd-766e4f360b23"
      },
      "source": [
        "hist(patient_data[('FVC','mean')],10,'mean fvc')"
      ],
      "execution_count": null,
      "outputs": [
        {
          "output_type": "display_data",
          "data": {
            "image/png": "[encoded data removed]",
            "text/plain": [
              "<Figure size 1440x720 with 1 Axes>"
            ]
          },
          "metadata": {
            "tags": [],
            "needs_background": "light"
          }
        }
      ]
    },
    {
      "cell_type": "code",
      "metadata": {
        "colab": {
          "base_uri": "https://localhost:8080/"
        },
        "id": "RBfgpLf8vu1e",
        "outputId": "afad9e6a-2abb-481f-8012-ddbf0f73ba04"
      },
      "source": [
        "len(patient_data[patient_data[('FVC','amin') ] > 4000])"
      ],
      "execution_count": null,
      "outputs": [
        {
          "output_type": "execute_result",
          "data": {
            "text/plain": [
              "5"
            ]
          },
          "metadata": {
            "tags": []
          },
          "execution_count": 21
        }
      ]
    },
    {
      "cell_type": "code",
      "metadata": {
        "colab": {
          "base_uri": "https://localhost:8080/",
          "height": 243
        },
        "id": "jAQySpFNOOyW",
        "outputId": "c867f6e5-654a-40e6-c352-77ed99b15581"
      },
      "source": [
        "patient_data[patient_data[('FVC','amin') ] > 4000]"
      ],
      "execution_count": null,
      "outputs": [
        {
          "output_type": "execute_result",
          "data": {
            "text/html": [
              "<div>\n",
              "<style scoped>\n",
              "    .dataframe tbody tr th:only-of-type {\n",
              "        vertical-align: middle;\n",
              "    }\n",
              "\n",
              "    .dataframe tbody tr th {\n",
              "        vertical-align: top;\n",
              "    }\n",
              "\n",
              "    .dataframe thead th {\n",
              "        text-align: right;\n",
              "    }\n",
              "</style>\n",
              "<table border=\"1\" class=\"dataframe\">\n",
              "  <thead>\n",
              "    <tr style=\"text-align: right;\">\n",
              "      <th></th>\n",
              "      <th>Patient</th>\n",
              "      <th>Age</th>\n",
              "      <th>Sex</th>\n",
              "      <th>SmokingStatus</th>\n",
              "      <th>(Weeks, amin)</th>\n",
              "      <th>(Weeks, amax)</th>\n",
              "      <th>(Weeks, mean)</th>\n",
              "      <th>(Weeks, std)</th>\n",
              "      <th>(FVC, amin)</th>\n",
              "      <th>(FVC, amax)</th>\n",
              "      <th>(FVC, mean)</th>\n",
              "      <th>(FVC, std)</th>\n",
              "      <th>(Percent, amin)</th>\n",
              "      <th>(Percent, amax)</th>\n",
              "      <th>(Percent, mean)</th>\n",
              "      <th>(Percent, std)</th>\n",
              "      <th>decade</th>\n",
              "    </tr>\n",
              "  </thead>\n",
              "  <tbody>\n",
              "    <tr>\n",
              "      <th>332</th>\n",
              "      <td>ID00094637202205333947361</td>\n",
              "      <td>64</td>\n",
              "      <td>Male</td>\n",
              "      <td>Ex-smoker</td>\n",
              "      <td>0</td>\n",
              "      <td>58</td>\n",
              "      <td>20</td>\n",
              "      <td>19</td>\n",
              "      <td>4574</td>\n",
              "      <td>4916</td>\n",
              "      <td>4759</td>\n",
              "      <td>96</td>\n",
              "      <td>109</td>\n",
              "      <td>117</td>\n",
              "      <td>113</td>\n",
              "      <td>2</td>\n",
              "      <td>6</td>\n",
              "    </tr>\n",
              "    <tr>\n",
              "      <th>570</th>\n",
              "      <td>ID00138637202231603868088</td>\n",
              "      <td>66</td>\n",
              "      <td>Male</td>\n",
              "      <td>Ex-smoker</td>\n",
              "      <td>14</td>\n",
              "      <td>70</td>\n",
              "      <td>32</td>\n",
              "      <td>18</td>\n",
              "      <td>4151</td>\n",
              "      <td>4510</td>\n",
              "      <td>4310</td>\n",
              "      <td>113</td>\n",
              "      <td>100</td>\n",
              "      <td>108</td>\n",
              "      <td>104</td>\n",
              "      <td>2</td>\n",
              "      <td>6</td>\n",
              "    </tr>\n",
              "    <tr>\n",
              "      <th>714</th>\n",
              "      <td>ID00190637202244450116191</td>\n",
              "      <td>69</td>\n",
              "      <td>Male</td>\n",
              "      <td>Ex-smoker</td>\n",
              "      <td>4</td>\n",
              "      <td>62</td>\n",
              "      <td>24</td>\n",
              "      <td>19</td>\n",
              "      <td>4169</td>\n",
              "      <td>4490</td>\n",
              "      <td>4350</td>\n",
              "      <td>122</td>\n",
              "      <td>108</td>\n",
              "      <td>117</td>\n",
              "      <td>113</td>\n",
              "      <td>3</td>\n",
              "      <td>6</td>\n",
              "    </tr>\n",
              "    <tr>\n",
              "      <th>822</th>\n",
              "      <td>ID00219637202258203123958</td>\n",
              "      <td>71</td>\n",
              "      <td>Male</td>\n",
              "      <td>Ex-smoker</td>\n",
              "      <td>0</td>\n",
              "      <td>56</td>\n",
              "      <td>19</td>\n",
              "      <td>18</td>\n",
              "      <td>5613</td>\n",
              "      <td>6399</td>\n",
              "      <td>5845</td>\n",
              "      <td>228</td>\n",
              "      <td>134</td>\n",
              "      <td>153</td>\n",
              "      <td>139</td>\n",
              "      <td>5</td>\n",
              "      <td>7</td>\n",
              "    </tr>\n",
              "    <tr>\n",
              "      <th>1362</th>\n",
              "      <td>ID00376637202297677828573</td>\n",
              "      <td>72</td>\n",
              "      <td>Male</td>\n",
              "      <td>Never smoked</td>\n",
              "      <td>39</td>\n",
              "      <td>93</td>\n",
              "      <td>56</td>\n",
              "      <td>18</td>\n",
              "      <td>4125</td>\n",
              "      <td>4386</td>\n",
              "      <td>4260</td>\n",
              "      <td>87</td>\n",
              "      <td>115</td>\n",
              "      <td>122</td>\n",
              "      <td>119</td>\n",
              "      <td>2</td>\n",
              "      <td>7</td>\n",
              "    </tr>\n",
              "  </tbody>\n",
              "</table>\n",
              "</div>"
            ],
            "text/plain": [
              "                        Patient  Age  ... (Percent, std) decade\n",
              "332   ID00094637202205333947361   64  ...              2      6\n",
              "570   ID00138637202231603868088   66  ...              2      6\n",
              "714   ID00190637202244450116191   69  ...              3      6\n",
              "822   ID00219637202258203123958   71  ...              5      7\n",
              "1362  ID00376637202297677828573   72  ...              2      7\n",
              "\n",
              "[5 rows x 17 columns]"
            ]
          },
          "metadata": {
            "tags": []
          },
          "execution_count": 22
        }
      ]
    },
    {
      "cell_type": "code",
      "metadata": {
        "id": "KQ8HS6iRNFbp"
      },
      "source": [
        "bad_patients_id = patient_data[patient_data[('FVC','amin') ] > 4000]['Patient']"
      ],
      "execution_count": null,
      "outputs": []
    },
    {
      "cell_type": "code",
      "metadata": {
        "id": "hdNvx3uoDVYN",
        "colab": {
          "base_uri": "https://localhost:8080/",
          "height": 300
        },
        "outputId": "c60eaf68-304f-4194-9a58-6225fcc708d2"
      },
      "source": [
        "fitted_curve(get_patients(train_data)[0],4,True)"
      ],
      "execution_count": null,
      "outputs": [
        {
          "output_type": "display_data",
          "data": {
            "image/png": "[encoded data removed]",
            "text/plain": [
              "<Figure size 432x288 with 1 Axes>"
            ]
          },
          "metadata": {
            "tags": [],
            "needs_background": "light"
          }
        },
        {
          "output_type": "execute_result",
          "data": {
            "text/plain": [
              "array([-1.70421296e+01,  3.51269616e-01,  7.79248217e-04, -4.70952748e-05,\n",
              "        2.24120268e+03])"
            ]
          },
          "metadata": {
            "tags": []
          },
          "execution_count": 28
        }
      ]
    },
    {
      "cell_type": "markdown",
      "metadata": {
        "id": "MOh1suduyr-u"
      },
      "source": [
        "###missing weeks\n",
        "\n"
      ]
    },
    {
      "cell_type": "code",
      "metadata": {
        "colab": {
          "base_uri": "https://localhost:8080/",
          "height": 430
        },
        "id": "B8DpemtWu3nm",
        "outputId": "1ee44acf-f481-40f6-d564-5968b516a71f"
      },
      "source": [
        "hist(get_missing(train_data),25,'missing weeks')"
      ],
      "execution_count": null,
      "outputs": [
        {
          "output_type": "display_data",
          "data": {
            "image/png": "[encoded data removed]",
            "text/plain": [
              "<Figure size 1440x720 with 1 Axes>"
            ]
          },
          "metadata": {
            "tags": [],
            "needs_background": "light"
          }
        }
      ]
    },
    {
      "cell_type": "code",
      "metadata": {
        "colab": {
          "base_uri": "https://localhost:8080/",
          "height": 406
        },
        "id": "PpzEmg8O1XI0",
        "outputId": "a8dac7de-18d8-486b-a41e-9f12b2e27ddb"
      },
      "source": [
        "l = list()\n",
        "for patient in get_patients(train_data):\n",
        "  l.append(len(patient['Weeks']))\n",
        "print(pd.value_counts(l))\n",
        "pd.value_counts(l).plot(kind = 'bar',title='number of observations')"
      ],
      "execution_count": null,
      "outputs": [
        {
          "output_type": "stream",
          "text": [
            "9     132\n",
            "8      25\n",
            "10     10\n",
            "7       7\n",
            "6       2\n",
            "dtype: int64\n"
          ],
          "name": "stdout"
        },
        {
          "output_type": "execute_result",
          "data": {
            "text/plain": [
              "<matplotlib.axes._subplots.AxesSubplot at 0x7f02bee78400>"
            ]
          },
          "metadata": {
            "tags": []
          },
          "execution_count": 27
        },
        {
          "output_type": "display_data",
          "data": {
            "image/png": "[encoded data removed]",
            "text/plain": [
              "<Figure size 432x288 with 1 Axes>"
            ]
          },
          "metadata": {
            "tags": [],
            "needs_background": "light"
          }
        }
      ]
    },
    {
      "cell_type": "markdown",
      "metadata": {
        "id": "3tdGSAVX3aWk"
      },
      "source": [
        "##feature pre-processing and generation"
      ]
    },
    {
      "cell_type": "markdown",
      "metadata": {
        "id": "x56vUdt34wlL"
      },
      "source": [
        "Numeric feature :  \n",
        "\n",
        "\n",
        "1. remove outliers\n",
        "2. appending missing weeks\n",
        "3. handling missing FVC \n",
        "\n",
        "\n",
        "Categorical feature :\n",
        " \n",
        "1. convert SmokingStatus into a one-hot vector"
      ]
    },
    {
      "cell_type": "code",
      "metadata": {
        "id": "_6m2ThoLaGuh"
      },
      "source": [
        "pipeline = Pipeline([('RemoveOutliers',RemoveOutliers(bad_patients_id)),\n",
        "                     ('AppendMissingWeeks',AppendMissingWeeks()),\n",
        "                     ('HandlingMissingFVC ', HandlingMissingData()),\n",
        "                        ('CategoricalTransformer',CategoricalTransformer())\n",
        "                         ])"
      ],
      "execution_count": null,
      "outputs": []
    },
    {
      "cell_type": "code",
      "metadata": {
        "id": "8YGX3DH8aocv",
        "colab": {
          "base_uri": "https://localhost:8080/"
        },
        "outputId": "c65df5e2-d3f9-46f2-da67-9a666bd58efb"
      },
      "source": [
        "train = pipeline.fit_transform(train_data)"
      ],
      "execution_count": null,
      "outputs": [
        {
          "output_type": "stream",
          "text": [
            "/usr/local/lib/python3.6/dist-packages/pandas/core/indexing.py:670: SettingWithCopyWarning: \n",
            "A value is trying to be set on a copy of a slice from a DataFrame\n",
            "\n",
            "See the caveats in the documentation: https://pandas.pydata.org/pandas-docs/stable/user_guide/indexing.html#returning-a-view-versus-a-copy\n",
            "  iloc._setitem_with_indexer(indexer, value)\n"
          ],
          "name": "stderr"
        },
        {
          "output_type": "stream",
          "text": [
            "171\n"
          ],
          "name": "stdout"
        },
        {
          "output_type": "stream",
          "text": [
            "/usr/local/lib/python3.6/dist-packages/pandas/core/indexing.py:1758: SettingWithCopyWarning: \n",
            "A value is trying to be set on a copy of a slice from a DataFrame.\n",
            "Try using .loc[row_indexer,col_indexer] = value instead\n",
            "\n",
            "See the caveats in the documentation: https://pandas.pydata.org/pandas-docs/stable/user_guide/indexing.html#returning-a-view-versus-a-copy\n",
            "  isetter(loc, v)\n",
            "/usr/local/lib/python3.6/dist-packages/pandas/core/indexing.py:1763: SettingWithCopyWarning: \n",
            "A value is trying to be set on a copy of a slice from a DataFrame.\n",
            "Try using .loc[row_indexer,col_indexer] = value instead\n",
            "\n",
            "See the caveats in the documentation: https://pandas.pydata.org/pandas-docs/stable/user_guide/indexing.html#returning-a-view-versus-a-copy\n",
            "  isetter(loc, value)\n"
          ],
          "name": "stderr"
        }
      ]
    },
    {
      "cell_type": "code",
      "metadata": {
        "colab": {
          "base_uri": "https://localhost:8080/",
          "height": 400
        },
        "id": "D5985eQ83jAi",
        "outputId": "1dd63bdf-9e3e-46aa-ffaf-16f4dd331cf5"
      },
      "source": [
        "train.head(10)"
      ],
      "execution_count": null,
      "outputs": [
        {
          "output_type": "execute_result",
          "data": {
            "text/html": [
              "<div>\n",
              "<style scoped>\n",
              "    .dataframe tbody tr th:only-of-type {\n",
              "        vertical-align: middle;\n",
              "    }\n",
              "\n",
              "    .dataframe tbody tr th {\n",
              "        vertical-align: top;\n",
              "    }\n",
              "\n",
              "    .dataframe thead th {\n",
              "        text-align: right;\n",
              "    }\n",
              "</style>\n",
              "<table border=\"1\" class=\"dataframe\">\n",
              "  <thead>\n",
              "    <tr style=\"text-align: right;\">\n",
              "      <th></th>\n",
              "      <th>Patient</th>\n",
              "      <th>Weeks</th>\n",
              "      <th>FVC</th>\n",
              "      <th>Percent</th>\n",
              "      <th>Sex</th>\n",
              "      <th>Ex-smoker</th>\n",
              "      <th>Never-smoked</th>\n",
              "      <th>Currently-smokes</th>\n",
              "      <th>decade</th>\n",
              "    </tr>\n",
              "  </thead>\n",
              "  <tbody>\n",
              "    <tr>\n",
              "      <th>0</th>\n",
              "      <td>ID00007637202177411956430</td>\n",
              "      <td>-4</td>\n",
              "      <td>2315</td>\n",
              "      <td>58.253649</td>\n",
              "      <td>0</td>\n",
              "      <td>1</td>\n",
              "      <td>0</td>\n",
              "      <td>0</td>\n",
              "      <td>7</td>\n",
              "    </tr>\n",
              "    <tr>\n",
              "      <th>1</th>\n",
              "      <td>ID00007637202177411956430</td>\n",
              "      <td>1</td>\n",
              "      <td>2251</td>\n",
              "      <td>58.253649</td>\n",
              "      <td>0</td>\n",
              "      <td>1</td>\n",
              "      <td>0</td>\n",
              "      <td>0</td>\n",
              "      <td>7</td>\n",
              "    </tr>\n",
              "    <tr>\n",
              "      <th>2</th>\n",
              "      <td>ID00007637202177411956430</td>\n",
              "      <td>5</td>\n",
              "      <td>2214</td>\n",
              "      <td>58.253649</td>\n",
              "      <td>0</td>\n",
              "      <td>1</td>\n",
              "      <td>0</td>\n",
              "      <td>0</td>\n",
              "      <td>7</td>\n",
              "    </tr>\n",
              "    <tr>\n",
              "      <th>3</th>\n",
              "      <td>ID00007637202177411956430</td>\n",
              "      <td>7</td>\n",
              "      <td>2061</td>\n",
              "      <td>58.253649</td>\n",
              "      <td>0</td>\n",
              "      <td>1</td>\n",
              "      <td>0</td>\n",
              "      <td>0</td>\n",
              "      <td>7</td>\n",
              "    </tr>\n",
              "    <tr>\n",
              "      <th>4</th>\n",
              "      <td>ID00007637202177411956430</td>\n",
              "      <td>9</td>\n",
              "      <td>2144</td>\n",
              "      <td>58.253649</td>\n",
              "      <td>0</td>\n",
              "      <td>1</td>\n",
              "      <td>0</td>\n",
              "      <td>0</td>\n",
              "      <td>7</td>\n",
              "    </tr>\n",
              "    <tr>\n",
              "      <th>5</th>\n",
              "      <td>ID00007637202177411956430</td>\n",
              "      <td>11</td>\n",
              "      <td>2069</td>\n",
              "      <td>58.253649</td>\n",
              "      <td>0</td>\n",
              "      <td>1</td>\n",
              "      <td>0</td>\n",
              "      <td>0</td>\n",
              "      <td>7</td>\n",
              "    </tr>\n",
              "    <tr>\n",
              "      <th>6</th>\n",
              "      <td>ID00007637202177411956430</td>\n",
              "      <td>17</td>\n",
              "      <td>2101</td>\n",
              "      <td>58.253649</td>\n",
              "      <td>0</td>\n",
              "      <td>1</td>\n",
              "      <td>0</td>\n",
              "      <td>0</td>\n",
              "      <td>7</td>\n",
              "    </tr>\n",
              "    <tr>\n",
              "      <th>7</th>\n",
              "      <td>ID00007637202177411956430</td>\n",
              "      <td>29</td>\n",
              "      <td>2000</td>\n",
              "      <td>58.253649</td>\n",
              "      <td>0</td>\n",
              "      <td>1</td>\n",
              "      <td>0</td>\n",
              "      <td>0</td>\n",
              "      <td>7</td>\n",
              "    </tr>\n",
              "    <tr>\n",
              "      <th>8</th>\n",
              "      <td>ID00007637202177411956430</td>\n",
              "      <td>41</td>\n",
              "      <td>2064</td>\n",
              "      <td>58.253649</td>\n",
              "      <td>0</td>\n",
              "      <td>1</td>\n",
              "      <td>0</td>\n",
              "      <td>0</td>\n",
              "      <td>7</td>\n",
              "    </tr>\n",
              "    <tr>\n",
              "      <th>9</th>\n",
              "      <td>ID00007637202177411956430</td>\n",
              "      <td>57</td>\n",
              "      <td>2057</td>\n",
              "      <td>58.253649</td>\n",
              "      <td>0</td>\n",
              "      <td>1</td>\n",
              "      <td>0</td>\n",
              "      <td>0</td>\n",
              "      <td>7</td>\n",
              "    </tr>\n",
              "  </tbody>\n",
              "</table>\n",
              "</div>"
            ],
            "text/plain": [
              "                     Patient Weeks   FVC  ...  Never-smoked  Currently-smokes  decade\n",
              "0  ID00007637202177411956430    -4  2315  ...             0                 0       7\n",
              "1  ID00007637202177411956430     1  2251  ...             0                 0       7\n",
              "2  ID00007637202177411956430     5  2214  ...             0                 0       7\n",
              "3  ID00007637202177411956430     7  2061  ...             0                 0       7\n",
              "4  ID00007637202177411956430     9  2144  ...             0                 0       7\n",
              "5  ID00007637202177411956430    11  2069  ...             0                 0       7\n",
              "6  ID00007637202177411956430    17  2101  ...             0                 0       7\n",
              "7  ID00007637202177411956430    29  2000  ...             0                 0       7\n",
              "8  ID00007637202177411956430    41  2064  ...             0                 0       7\n",
              "9  ID00007637202177411956430    57  2057  ...             0                 0       7\n",
              "\n",
              "[10 rows x 9 columns]"
            ]
          },
          "metadata": {
            "tags": []
          },
          "execution_count": 28
        }
      ]
    },
    {
      "cell_type": "code",
      "metadata": {
        "id": "klLJ9SPq7fdO"
      },
      "source": [
        "train.to_csv('/content/drive/MyDrive/graduation_project/data.csv',index=False)"
      ],
      "execution_count": null,
      "outputs": []
    }
  ]
}