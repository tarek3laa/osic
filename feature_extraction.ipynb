{
  "nbformat": 4,
  "nbformat_minor": 0,
  "metadata": {
    "colab": {
      "name": "feature extraction.ipynb",
      "provenance": []
    },
    "kernelspec": {
      "name": "python3",
      "display_name": "Python 3"
    },
    "language_info": {
      "name": "python"
    },
    "accelerator": "GPU"
  },
  "cells": [
    {
      "cell_type": "code",
      "metadata": {
        "id": "wq17v5-kerJZ"
      },
      "source": [
        "import tensorflow as tf\n",
        "from keras import Sequential,layers\n",
        "import cv2\n",
        "import matplotlib.pyplot as plt\n",
        "import os\n",
        "import numpy as np\n",
        "import time\n",
        "import keras"
      ],
      "execution_count": null,
      "outputs": []
    },
    {
      "cell_type": "code",
      "metadata": {
        "colab": {
          "base_uri": "https://localhost:8080/"
        },
        "id": "deyNcUZggDjg",
        "outputId": "75906965-fdd6-471d-cf47-a891cfd0d3b3"
      },
      "source": [
        "base_models = [\n",
        "    tf.keras.applications.VGG16(\n",
        "    input_shape=(128,128,3),\n",
        "    include_top=False),\n",
        "    \n",
        "    tf.keras.applications.InceptionResNetV2(\n",
        "    input_shape=(128,128,3),\n",
        "    include_top=False),\n",
        "   \n",
        "    tf.keras.applications.DenseNet201(\n",
        "    input_shape=(128,128,3),\n",
        "    include_top=False),\n",
        "   \n",
        "    tf.keras.applications.EfficientNetB0(\n",
        "    input_shape=(128,128,3),\n",
        "    include_top=False),\n",
        "]"
      ],
      "execution_count": null,
      "outputs": [
        {
          "output_type": "stream",
          "text": [
            "Downloading data from https://storage.googleapis.com/tensorflow/keras-applications/vgg16/vgg16_weights_tf_dim_ordering_tf_kernels_notop.h5\n",
            "58892288/58889256 [==============================] - 1s 0us/step\n",
            "Downloading data from https://storage.googleapis.com/tensorflow/keras-applications/inception_resnet_v2/inception_resnet_v2_weights_tf_dim_ordering_tf_kernels_notop.h5\n",
            "219062272/219055592 [==============================] - 2s 0us/step\n",
            "Downloading data from https://storage.googleapis.com/tensorflow/keras-applications/densenet/densenet201_weights_tf_dim_ordering_tf_kernels_notop.h5\n",
            "74842112/74836368 [==============================] - 1s 0us/step\n",
            "Downloading data from https://storage.googleapis.com/keras-applications/efficientnetb0_notop.h5\n",
            "16711680/16705208 [==============================] - 0s 0us/step\n"
          ],
          "name": "stdout"
        }
      ]
    },
    {
      "cell_type": "code",
      "metadata": {
        "id": "w1f3CrZAbFR9"
      },
      "source": [
        "summary = []"
      ],
      "execution_count": null,
      "outputs": []
    },
    {
      "cell_type": "code",
      "metadata": {
        "id": "Xx2_yfQygL_L",
        "colab": {
          "base_uri": "https://localhost:8080/"
        },
        "outputId": "28fd3de2-3550-40c4-eaab-b02914da3ee4"
      },
      "source": [
        "\n",
        "for base_model in base_models:\n",
        "  model = Sequential()\n",
        "  model.add(base_model)\n",
        "  model.add(layers.GlobalAveragePooling2D())\n",
        "  model.add(layers.Dropout(0.2))\n",
        "  model.add(layers.Dense(32,activation='relu'))\n",
        "  model.add(layers.Dense(1))\n",
        "  model.build((None,128,128,3))\n",
        "  model.compile('adam',loss='mean_absolute_error',metrics=['accuracy', lr_metric])\n",
        "  lr_decay =  tf.keras.callbacks.ReduceLROnPlateau(\n",
        "    monitor=\"val_loss\",\n",
        "    factor=0.1,\n",
        "    patience=1,\n",
        "    min_lr=0,\n",
        "    mode=\"auto\",\n",
        "    cooldown=0)\n",
        "  start_time = time.perf_counter()\n",
        "  model.fit(X,y,batch_size=32,epochs=10,callbacks=[lr_decay],validation_split=0.25)\n",
        "  end_time = time.perf_counter()\n",
        "  summary.append((end_time-start_time,model.evaluate(X,y)))"
      ],
      "execution_count": null,
      "outputs": [
        {
          "output_type": "stream",
          "text": [
            "Epoch 1/5\n",
            "156/156 [==============================] - 37s 199ms/step - loss: 1739.7455 - val_loss: 617.6373\n",
            "Epoch 2/5\n",
            "156/156 [==============================] - 23s 149ms/step - loss: 677.0898 - val_loss: 771.1011\n",
            "Epoch 3/5\n",
            "156/156 [==============================] - 23s 148ms/step - loss: 616.9569 - val_loss: 507.6969\n",
            "Epoch 4/5\n",
            "156/156 [==============================] - 23s 150ms/step - loss: 591.6002 - val_loss: 483.9328\n",
            "Epoch 5/5\n",
            "156/156 [==============================] - 23s 150ms/step - loss: 567.0634 - val_loss: 624.6423\n",
            "208/208 [==============================] - 10s 50ms/step - loss: 632.5704\n",
            "Epoch 1/5\n",
            "156/156 [==============================] - 56s 262ms/step - loss: 2187.1683 - val_loss: 1513.4172\n",
            "Epoch 2/5\n",
            "156/156 [==============================] - 37s 240ms/step - loss: 983.1355 - val_loss: 1261.4943\n",
            "Epoch 3/5\n",
            "156/156 [==============================] - 39s 251ms/step - loss: 591.5151 - val_loss: 560.1676\n",
            "Epoch 4/5\n",
            "156/156 [==============================] - 39s 253ms/step - loss: 585.3187 - val_loss: 609.5845\n",
            "Epoch 5/5\n",
            "156/156 [==============================] - 38s 240ms/step - loss: 566.3281 - val_loss: 510.7083\n",
            "208/208 [==============================] - 14s 69ms/step - loss: 531.5281\n",
            "Epoch 1/5\n",
            "156/156 [==============================] - 68s 293ms/step - loss: 2157.8395 - val_loss: 25919.9160\n",
            "Epoch 2/5\n",
            "156/156 [==============================] - 37s 238ms/step - loss: 683.2598 - val_loss: 1358448.2500\n",
            "Epoch 3/5\n",
            "156/156 [==============================] - 35s 226ms/step - loss: 553.7214 - val_loss: 781.1461\n",
            "Epoch 4/5\n",
            "156/156 [==============================] - 35s 226ms/step - loss: 548.1966 - val_loss: 514.7883\n",
            "Epoch 5/5\n",
            "156/156 [==============================] - 35s 226ms/step - loss: 550.2447 - val_loss: 495.2671\n",
            "208/208 [==============================] - 15s 71ms/step - loss: 522.4277\n",
            "Epoch 1/5\n",
            "156/156 [==============================] - 31s 136ms/step - loss: 2224.9410 - val_loss: 2251.3376\n",
            "Epoch 2/5\n",
            "156/156 [==============================] - 19s 119ms/step - loss: 1518.7108 - val_loss: 1538.3658\n",
            "Epoch 3/5\n",
            "156/156 [==============================] - 18s 118ms/step - loss: 857.3903 - val_loss: 2211.6875\n",
            "Epoch 4/5\n",
            "156/156 [==============================] - 18s 118ms/step - loss: 555.9705 - val_loss: 520.0311\n",
            "Epoch 5/5\n",
            "156/156 [==============================] - 19s 119ms/step - loss: 533.8521 - val_loss: 528.5571\n",
            "208/208 [==============================] - 5s 25ms/step - loss: 519.6002\n"
          ],
          "name": "stdout"
        }
      ]
    },
    {
      "cell_type": "code",
      "metadata": {
        "colab": {
          "base_uri": "https://localhost:8080/"
        },
        "id": "ed1gurCKjAeb",
        "outputId": "18f6b6ee-8b07-4680-f673-eb855aaec0cc"
      },
      "source": [
        "from google.colab import drive\n",
        "drive.mount('/content/drive')"
      ],
      "execution_count": null,
      "outputs": [
        {
          "output_type": "stream",
          "text": [
            "Mounted at /content/drive\n"
          ],
          "name": "stdout"
        }
      ]
    },
    {
      "cell_type": "code",
      "metadata": {
        "id": "SFCPe2va6uJR"
      },
      "source": [
        ""
      ],
      "execution_count": null,
      "outputs": []
    },
    {
      "cell_type": "code",
      "metadata": {
        "id": "bXU2-YQmKrfu"
      },
      "source": [
        "import pandas as pd"
      ],
      "execution_count": null,
      "outputs": []
    },
    {
      "cell_type": "code",
      "metadata": {
        "id": "w6ZcCBAuqYf0"
      },
      "source": [
        "data = pd.read_csv('/content/drive/MyDrive/Copy of new.csv')"
      ],
      "execution_count": null,
      "outputs": []
    },
    {
      "cell_type": "code",
      "metadata": {
        "colab": {
          "base_uri": "https://localhost:8080/",
          "height": 206
        },
        "id": "jac2GehoKwg0",
        "outputId": "f111cfaf-4293-4507-d43e-16b62d2f3044"
      },
      "source": [
        "data.head()"
      ],
      "execution_count": null,
      "outputs": [
        {
          "output_type": "execute_result",
          "data": {
            "text/html": [
              "<div>\n",
              "<style scoped>\n",
              "    .dataframe tbody tr th:only-of-type {\n",
              "        vertical-align: middle;\n",
              "    }\n",
              "\n",
              "    .dataframe tbody tr th {\n",
              "        vertical-align: top;\n",
              "    }\n",
              "\n",
              "    .dataframe thead th {\n",
              "        text-align: right;\n",
              "    }\n",
              "</style>\n",
              "<table border=\"1\" class=\"dataframe\">\n",
              "  <thead>\n",
              "    <tr style=\"text-align: right;\">\n",
              "      <th></th>\n",
              "      <th>Patient</th>\n",
              "      <th>FVC</th>\n",
              "    </tr>\n",
              "  </thead>\n",
              "  <tbody>\n",
              "    <tr>\n",
              "      <th>0</th>\n",
              "      <td>ID00007637202177411956430</td>\n",
              "      <td>2000</td>\n",
              "    </tr>\n",
              "    <tr>\n",
              "      <th>1</th>\n",
              "      <td>ID00009637202177434476278</td>\n",
              "      <td>3214</td>\n",
              "    </tr>\n",
              "    <tr>\n",
              "      <th>2</th>\n",
              "      <td>ID00010637202177584971671</td>\n",
              "      <td>2474</td>\n",
              "    </tr>\n",
              "    <tr>\n",
              "      <th>3</th>\n",
              "      <td>ID00011637202177653955184</td>\n",
              "      <td>3193</td>\n",
              "    </tr>\n",
              "    <tr>\n",
              "      <th>4</th>\n",
              "      <td>ID00012637202177665765362</td>\n",
              "      <td>2971</td>\n",
              "    </tr>\n",
              "  </tbody>\n",
              "</table>\n",
              "</div>"
            ],
            "text/plain": [
              "                     Patient   FVC\n",
              "0  ID00007637202177411956430  2000\n",
              "1  ID00009637202177434476278  3214\n",
              "2  ID00010637202177584971671  2474\n",
              "3  ID00011637202177653955184  3193\n",
              "4  ID00012637202177665765362  2971"
            ]
          },
          "metadata": {
            "tags": []
          },
          "execution_count": 71
        }
      ]
    },
    {
      "cell_type": "code",
      "metadata": {
        "id": "v1FBmaquKx3h"
      },
      "source": [
        "path1 = '/content/drive/MyDrive/mask_coronal/'\n",
        "path2 = '/content/drive/MyDrive/mask_sagittal/'"
      ],
      "execution_count": null,
      "outputs": []
    },
    {
      "cell_type": "code",
      "metadata": {
        "id": "OQ44wkUwL21I"
      },
      "source": [
        ""
      ],
      "execution_count": null,
      "outputs": []
    },
    {
      "cell_type": "code",
      "metadata": {
        "id": "e7SW8hq5LM2f"
      },
      "source": [
        "X = []\n",
        "y = []\n",
        "for i in range(len(data)):\n",
        "  id = data.iloc[i]['Patient']\n",
        "  target = data.iloc[i]['FVC']\n",
        "  for slice0 in os.listdir(path1+id):\n",
        "    image = cv2.resize(cv2.imread(path1+id+'/'+slice0),(128,128))\n",
        "    X.append(image)\n",
        "    y.append(target)\n",
        "  for slice0 in os.listdir(path2+id):\n",
        "    image = cv2.resize(cv2.imread(path2+id+'/'+slice0),(128,128))\n",
        "    X.append(image)\n",
        "    y.append(target)"
      ],
      "execution_count": null,
      "outputs": []
    },
    {
      "cell_type": "code",
      "metadata": {
        "id": "naHdt2p8UqHF"
      },
      "source": [
        "X = np.array(X)\n",
        "y = np.array(y)"
      ],
      "execution_count": null,
      "outputs": []
    },
    {
      "cell_type": "code",
      "metadata": {
        "id": "mTFxIjJ9oRwH"
      },
      "source": [
        "with open('test.npy', 'wb') as f:\n",
        "    np.save(f, X)\n",
        "    np.save(f, y)"
      ],
      "execution_count": null,
      "outputs": []
    },
    {
      "cell_type": "code",
      "metadata": {
        "id": "LkiRuNfmUtUI"
      },
      "source": [
        "with open('/content/drive/MyDrive/test.npy', 'rb') as f:\n",
        "    X = np.load(f)\n",
        "    y = np.load(f)"
      ],
      "execution_count": null,
      "outputs": []
    },
    {
      "cell_type": "code",
      "metadata": {
        "id": "M4kRFLL2NRLe"
      },
      "source": [
        "base_model = tf.keras.applications.EfficientNetB0(\n",
        "    input_shape=(128,128,3),\n",
        "    include_top=False)"
      ],
      "execution_count": null,
      "outputs": []
    },
    {
      "cell_type": "code",
      "metadata": {
        "id": "0D31LolZ1o-b"
      },
      "source": [
        "model = Sequential()\n",
        "model.add(base_model)\n",
        "model.add(layers.GlobalAveragePooling2D())\n",
        "model.add(layers.Dropout(0.25))\n",
        "model.add(layers.Dense(32,activation='relu'))\n",
        "model.add(layers.Dense(1))\n",
        "model.build((None,128,128,3))\n",
        "model.compile(keras.optimizers.Adam(),loss='mean_absolute_error')\n"
      ],
      "execution_count": null,
      "outputs": []
    },
    {
      "cell_type": "code",
      "metadata": {
        "colab": {
          "base_uri": "https://localhost:8080/"
        },
        "id": "TuaOBOptBj4L",
        "outputId": "9ec2e7b9-f1b4-4c0c-9359-fd9b4dfdce29"
      },
      "source": [
        "print(end_time-start_time)"
      ],
      "execution_count": null,
      "outputs": [
        {
          "output_type": "stream",
          "text": [
            "381.95429082699957\n"
          ],
          "name": "stdout"
        }
      ]
    },
    {
      "cell_type": "code",
      "metadata": {
        "colab": {
          "base_uri": "https://localhost:8080/"
        },
        "id": "6f9RsM8vBK37",
        "outputId": "cd052e52-60ac-4c58-9921-298a7ec51906"
      },
      "source": [
        "start_time = time.perf_counter()\n",
        "model.fit(X,y,batch_size=32,epochs=20,validation_split=0.25)\n",
        "end_time = time.perf_counter()"
      ],
      "execution_count": null,
      "outputs": [
        {
          "output_type": "stream",
          "text": [
            "Epoch 1/20\n",
            "156/156 [==============================] - 42s 228ms/step - loss: 2032.7348 - val_loss: 654.4428\n",
            "Epoch 2/20\n",
            "156/156 [==============================] - 17s 109ms/step - loss: 480.0547 - val_loss: 550.0564\n",
            "Epoch 3/20\n",
            "156/156 [==============================] - 17s 109ms/step - loss: 419.5686 - val_loss: 598.0616\n",
            "Epoch 4/20\n",
            "156/156 [==============================] - 17s 111ms/step - loss: 416.9197 - val_loss: 593.1821\n",
            "Epoch 5/20\n",
            "156/156 [==============================] - 17s 110ms/step - loss: 409.5424 - val_loss: 570.8987\n",
            "Epoch 6/20\n",
            "156/156 [==============================] - 17s 110ms/step - loss: 411.2408 - val_loss: 559.1761\n",
            "Epoch 7/20\n",
            "156/156 [==============================] - 17s 109ms/step - loss: 409.5008 - val_loss: 569.0610\n",
            "Epoch 8/20\n",
            "156/156 [==============================] - 17s 110ms/step - loss: 413.5930 - val_loss: 584.5587\n",
            "Epoch 9/20\n",
            "156/156 [==============================] - 17s 109ms/step - loss: 390.9413 - val_loss: 596.8818\n",
            "Epoch 10/20\n",
            "156/156 [==============================] - 17s 109ms/step - loss: 389.3488 - val_loss: 565.8406\n",
            "Epoch 11/20\n",
            "156/156 [==============================] - 17s 110ms/step - loss: 403.4741 - val_loss: 552.7859\n",
            "Epoch 12/20\n",
            "156/156 [==============================] - 17s 110ms/step - loss: 384.4688 - val_loss: 591.6363\n",
            "Epoch 13/20\n",
            "156/156 [==============================] - 17s 112ms/step - loss: 384.1405 - val_loss: 595.2754\n",
            "Epoch 14/20\n",
            "156/156 [==============================] - 17s 110ms/step - loss: 374.6798 - val_loss: 591.3350\n",
            "Epoch 15/20\n",
            "156/156 [==============================] - 17s 110ms/step - loss: 380.0574 - val_loss: 603.2598\n",
            "Epoch 16/20\n",
            "156/156 [==============================] - 17s 110ms/step - loss: 365.8534 - val_loss: 598.1068\n",
            "Epoch 17/20\n",
            "156/156 [==============================] - 17s 110ms/step - loss: 377.1404 - val_loss: 594.6273\n",
            "Epoch 18/20\n",
            "156/156 [==============================] - 17s 110ms/step - loss: 366.6461 - val_loss: 576.8300\n",
            "Epoch 19/20\n",
            "156/156 [==============================] - 17s 110ms/step - loss: 369.2877 - val_loss: 593.4482\n",
            "Epoch 20/20\n",
            "156/156 [==============================] - 17s 110ms/step - loss: 360.8621 - val_loss: 587.7788\n"
          ],
          "name": "stdout"
        }
      ]
    },
    {
      "cell_type": "code",
      "metadata": {
        "colab": {
          "base_uri": "https://localhost:8080/"
        },
        "id": "nXVAgUOl107g",
        "outputId": "f61133a0-bc6c-4ee1-be3e-c08ff137c205"
      },
      "source": [
        "model.evaluate(X,y)"
      ],
      "execution_count": null,
      "outputs": [
        {
          "output_type": "stream",
          "text": [
            "208/208 [==============================] - 5s 22ms/step - loss: 387.2209\n"
          ],
          "name": "stdout"
        },
        {
          "output_type": "execute_result",
          "data": {
            "text/plain": [
              "387.2208557128906"
            ]
          },
          "metadata": {
            "tags": []
          },
          "execution_count": 53
        }
      ]
    },
    {
      "cell_type": "code",
      "metadata": {
        "id": "aTOmTVnVFryC"
      },
      "source": [
        "model.save_weights('/content/drive/MyDrive/_feature_.h5')"
      ],
      "execution_count": null,
      "outputs": []
    },
    {
      "cell_type": "code",
      "metadata": {
        "id": "b8AndqZEFyeY"
      },
      "source": [
        "feature_extractor = Sequential()\n",
        "for i in range(4):\n",
        "   feature_extractor.add(model.layers[i])"
      ],
      "execution_count": null,
      "outputs": []
    },
    {
      "cell_type": "code",
      "metadata": {
        "id": "Wp1YQj69JPYN"
      },
      "source": [
        "feature_extractor.build((None,128,128,3))"
      ],
      "execution_count": null,
      "outputs": []
    },
    {
      "cell_type": "code",
      "metadata": {
        "id": "Kr4aQ8KGJboX"
      },
      "source": [
        ""
      ],
      "execution_count": null,
      "outputs": []
    },
    {
      "cell_type": "code",
      "metadata": {
        "colab": {
          "base_uri": "https://localhost:8080/"
        },
        "id": "oyxXcMB8JiHp",
        "outputId": "797cf189-e1c6-48f5-e1ab-96e6d4d1a17c"
      },
      "source": [
        "x.ravel().shape"
      ],
      "execution_count": null,
      "outputs": [
        {
          "output_type": "execute_result",
          "data": {
            "text/plain": [
              "(1280,)"
            ]
          },
          "metadata": {
            "tags": []
          },
          "execution_count": 87
        }
      ]
    },
    {
      "cell_type": "code",
      "metadata": {
        "colab": {
          "base_uri": "https://localhost:8080/"
        },
        "id": "7-G_Aui2KMY8",
        "outputId": "0aa2e549-c624-40d0-cf28-23a45e2213b5"
      },
      "source": [
        "print(len(data))"
      ],
      "execution_count": null,
      "outputs": [
        {
          "output_type": "stream",
          "text": [
            "171\n"
          ],
          "name": "stdout"
        }
      ]
    },
    {
      "cell_type": "code",
      "metadata": {
        "id": "PuulUdBWLHed"
      },
      "source": [
        ""
      ],
      "execution_count": null,
      "outputs": []
    },
    {
      "cell_type": "code",
      "metadata": {
        "id": "VddhilQSKSVf"
      },
      "source": [
        "features = pd.DataFrame(columns=['id']+list(range(0,32*40)))"
      ],
      "execution_count": null,
      "outputs": []
    },
    {
      "cell_type": "code",
      "metadata": {
        "colab": {
          "base_uri": "https://localhost:8080/"
        },
        "id": "YbfYbbkeMS8-",
        "outputId": "28828fc9-a97b-4c5a-83b6-057c40ee45a9"
      },
      "source": [
        "list(np.zeros(10))"
      ],
      "execution_count": null,
      "outputs": [
        {
          "output_type": "execute_result",
          "data": {
            "text/plain": [
              "[0.0, 0.0, 0.0, 0.0, 0.0, 0.0, 0.0, 0.0, 0.0, 0.0]"
            ]
          },
          "metadata": {
            "tags": []
          },
          "execution_count": 128
        }
      ]
    },
    {
      "cell_type": "code",
      "metadata": {
        "id": "y0tdp4F4Jl6D"
      },
      "source": [
        "qv = 0\n",
        "for i in range(len(data)):\n",
        "  d = []\n",
        "  id = data.iloc[i]['Patient']\n",
        "  target = data.iloc[i]['FVC']\n",
        "  for slice0 in os.listdir(path1+id):\n",
        "    image = cv2.resize(cv2.imread(path1+id+'/'+slice0),(128,128))\n",
        "    d.append(image)\n",
        "  for slice0 in os.listdir(path2+id):\n",
        "    image = cv2.resize(cv2.imread(path2+id+'/'+slice0),(128,128))\n",
        "    d.append(image)\n",
        "  print(id,len(d))\n",
        "  if len(d)!=0:\n",
        "    d = np.array(d)\n",
        "    x = feature_extractor.predict(d)\n",
        "    z = [id]+list(x.ravel())\n",
        "    if len(z) < 1281:\n",
        "      z += list(np.zeros(1281 - len(z)))\n",
        "    if len(z) > 1281:\n",
        "      z = z[0:1281]\n",
        "    features.loc[len(features)] = z\n",
        "  else:\n",
        "    z = [id]+list(np.zeros(1280))\n",
        "    features.loc[len(features)] = z\n",
        "    qv=qv+1\n",
        "  print(len(features))"
      ],
      "execution_count": null,
      "outputs": []
    },
    {
      "cell_type": "code",
      "metadata": {
        "id": "dQlXsWA_Nq7J"
      },
      "source": [
        "features.to_csv('/content/drive/MyDrive/features.csv',index=False)"
      ],
      "execution_count": null,
      "outputs": []
    },
    {
      "cell_type": "code",
      "metadata": {
        "id": "vdX-MsuFbjDp"
      },
      "source": [
        "features = pd.read_csv('/content/drive/MyDrive/features.csv')"
      ],
      "execution_count": null,
      "outputs": []
    },
    {
      "cell_type": "code",
      "metadata": {
        "colab": {
          "base_uri": "https://localhost:8080/",
          "height": 255
        },
        "id": "EKvIkv3q8nVO",
        "outputId": "d189d64d-2a71-474c-efb5-2e739355c59a"
      },
      "source": [
        "features.head()"
      ],
      "execution_count": null,
      "outputs": [
        {
          "output_type": "execute_result",
          "data": {
            "text/html": [
              "<div>\n",
              "<style scoped>\n",
              "    .dataframe tbody tr th:only-of-type {\n",
              "        vertical-align: middle;\n",
              "    }\n",
              "\n",
              "    .dataframe tbody tr th {\n",
              "        vertical-align: top;\n",
              "    }\n",
              "\n",
              "    .dataframe thead th {\n",
              "        text-align: right;\n",
              "    }\n",
              "</style>\n",
              "<table border=\"1\" class=\"dataframe\">\n",
              "  <thead>\n",
              "    <tr style=\"text-align: right;\">\n",
              "      <th></th>\n",
              "      <th>id</th>\n",
              "      <th>0</th>\n",
              "      <th>1</th>\n",
              "      <th>2</th>\n",
              "      <th>3</th>\n",
              "      <th>4</th>\n",
              "      <th>5</th>\n",
              "      <th>6</th>\n",
              "      <th>7</th>\n",
              "      <th>8</th>\n",
              "      <th>9</th>\n",
              "      <th>10</th>\n",
              "      <th>11</th>\n",
              "      <th>12</th>\n",
              "      <th>13</th>\n",
              "      <th>14</th>\n",
              "      <th>15</th>\n",
              "      <th>16</th>\n",
              "      <th>17</th>\n",
              "      <th>18</th>\n",
              "      <th>19</th>\n",
              "      <th>20</th>\n",
              "      <th>21</th>\n",
              "      <th>22</th>\n",
              "      <th>23</th>\n",
              "      <th>24</th>\n",
              "      <th>25</th>\n",
              "      <th>26</th>\n",
              "      <th>27</th>\n",
              "      <th>28</th>\n",
              "      <th>29</th>\n",
              "      <th>30</th>\n",
              "      <th>31</th>\n",
              "      <th>32</th>\n",
              "      <th>33</th>\n",
              "      <th>34</th>\n",
              "      <th>35</th>\n",
              "      <th>36</th>\n",
              "      <th>37</th>\n",
              "      <th>38</th>\n",
              "      <th>...</th>\n",
              "      <th>1240</th>\n",
              "      <th>1241</th>\n",
              "      <th>1242</th>\n",
              "      <th>1243</th>\n",
              "      <th>1244</th>\n",
              "      <th>1245</th>\n",
              "      <th>1246</th>\n",
              "      <th>1247</th>\n",
              "      <th>1248</th>\n",
              "      <th>1249</th>\n",
              "      <th>1250</th>\n",
              "      <th>1251</th>\n",
              "      <th>1252</th>\n",
              "      <th>1253</th>\n",
              "      <th>1254</th>\n",
              "      <th>1255</th>\n",
              "      <th>1256</th>\n",
              "      <th>1257</th>\n",
              "      <th>1258</th>\n",
              "      <th>1259</th>\n",
              "      <th>1260</th>\n",
              "      <th>1261</th>\n",
              "      <th>1262</th>\n",
              "      <th>1263</th>\n",
              "      <th>1264</th>\n",
              "      <th>1265</th>\n",
              "      <th>1266</th>\n",
              "      <th>1267</th>\n",
              "      <th>1268</th>\n",
              "      <th>1269</th>\n",
              "      <th>1270</th>\n",
              "      <th>1271</th>\n",
              "      <th>1272</th>\n",
              "      <th>1273</th>\n",
              "      <th>1274</th>\n",
              "      <th>1275</th>\n",
              "      <th>1276</th>\n",
              "      <th>1277</th>\n",
              "      <th>1278</th>\n",
              "      <th>1279</th>\n",
              "    </tr>\n",
              "  </thead>\n",
              "  <tbody>\n",
              "    <tr>\n",
              "      <th>0</th>\n",
              "      <td>ID00007637202177411956430</td>\n",
              "      <td>0.0</td>\n",
              "      <td>0.0</td>\n",
              "      <td>366.670807</td>\n",
              "      <td>393.150055</td>\n",
              "      <td>0.0</td>\n",
              "      <td>0.0</td>\n",
              "      <td>343.384369</td>\n",
              "      <td>0.0</td>\n",
              "      <td>352.586395</td>\n",
              "      <td>343.830200</td>\n",
              "      <td>0.0</td>\n",
              "      <td>343.418060</td>\n",
              "      <td>0.0</td>\n",
              "      <td>0.0</td>\n",
              "      <td>356.456146</td>\n",
              "      <td>415.979401</td>\n",
              "      <td>424.457520</td>\n",
              "      <td>0.0</td>\n",
              "      <td>347.098785</td>\n",
              "      <td>0.0</td>\n",
              "      <td>0.0</td>\n",
              "      <td>0.0</td>\n",
              "      <td>0.0</td>\n",
              "      <td>0.0</td>\n",
              "      <td>0.0</td>\n",
              "      <td>0.0</td>\n",
              "      <td>0.0</td>\n",
              "      <td>354.213135</td>\n",
              "      <td>405.612640</td>\n",
              "      <td>0.0</td>\n",
              "      <td>369.112885</td>\n",
              "      <td>395.908173</td>\n",
              "      <td>0.0</td>\n",
              "      <td>0.0</td>\n",
              "      <td>309.489288</td>\n",
              "      <td>332.259918</td>\n",
              "      <td>0.0</td>\n",
              "      <td>0.0</td>\n",
              "      <td>289.987244</td>\n",
              "      <td>...</td>\n",
              "      <td>0.0</td>\n",
              "      <td>0.0</td>\n",
              "      <td>0.0</td>\n",
              "      <td>278.895996</td>\n",
              "      <td>319.503021</td>\n",
              "      <td>0.0</td>\n",
              "      <td>290.860168</td>\n",
              "      <td>311.460938</td>\n",
              "      <td>0.0</td>\n",
              "      <td>0.0</td>\n",
              "      <td>288.828583</td>\n",
              "      <td>310.166229</td>\n",
              "      <td>0.0</td>\n",
              "      <td>0.0</td>\n",
              "      <td>270.720947</td>\n",
              "      <td>0.0</td>\n",
              "      <td>278.063110</td>\n",
              "      <td>270.816895</td>\n",
              "      <td>0.0</td>\n",
              "      <td>270.793030</td>\n",
              "      <td>0.0</td>\n",
              "      <td>0.0</td>\n",
              "      <td>281.200684</td>\n",
              "      <td>327.670990</td>\n",
              "      <td>334.685394</td>\n",
              "      <td>0.0</td>\n",
              "      <td>273.467926</td>\n",
              "      <td>0.0</td>\n",
              "      <td>0.0</td>\n",
              "      <td>0.0</td>\n",
              "      <td>0.0</td>\n",
              "      <td>0.0</td>\n",
              "      <td>0.0</td>\n",
              "      <td>0.0</td>\n",
              "      <td>0.0</td>\n",
              "      <td>279.219360</td>\n",
              "      <td>319.877960</td>\n",
              "      <td>0.0</td>\n",
              "      <td>291.180359</td>\n",
              "      <td>311.851898</td>\n",
              "    </tr>\n",
              "    <tr>\n",
              "      <th>1</th>\n",
              "      <td>ID00009637202177434476278</td>\n",
              "      <td>0.0</td>\n",
              "      <td>0.0</td>\n",
              "      <td>495.122955</td>\n",
              "      <td>529.257996</td>\n",
              "      <td>0.0</td>\n",
              "      <td>0.0</td>\n",
              "      <td>462.829376</td>\n",
              "      <td>0.0</td>\n",
              "      <td>476.145233</td>\n",
              "      <td>464.095062</td>\n",
              "      <td>0.0</td>\n",
              "      <td>463.250336</td>\n",
              "      <td>0.0</td>\n",
              "      <td>0.0</td>\n",
              "      <td>479.695221</td>\n",
              "      <td>562.204834</td>\n",
              "      <td>572.383789</td>\n",
              "      <td>0.0</td>\n",
              "      <td>468.522980</td>\n",
              "      <td>0.0</td>\n",
              "      <td>0.0</td>\n",
              "      <td>0.0</td>\n",
              "      <td>0.0</td>\n",
              "      <td>0.0</td>\n",
              "      <td>0.0</td>\n",
              "      <td>0.0</td>\n",
              "      <td>0.0</td>\n",
              "      <td>477.957306</td>\n",
              "      <td>546.916443</td>\n",
              "      <td>0.0</td>\n",
              "      <td>497.553558</td>\n",
              "      <td>535.023926</td>\n",
              "      <td>0.0</td>\n",
              "      <td>0.0</td>\n",
              "      <td>506.968536</td>\n",
              "      <td>541.686096</td>\n",
              "      <td>0.0</td>\n",
              "      <td>0.0</td>\n",
              "      <td>473.780762</td>\n",
              "      <td>...</td>\n",
              "      <td>0.0</td>\n",
              "      <td>0.0</td>\n",
              "      <td>0.0</td>\n",
              "      <td>423.599121</td>\n",
              "      <td>484.823792</td>\n",
              "      <td>0.0</td>\n",
              "      <td>441.276489</td>\n",
              "      <td>473.944489</td>\n",
              "      <td>0.0</td>\n",
              "      <td>0.0</td>\n",
              "      <td>430.805878</td>\n",
              "      <td>461.068695</td>\n",
              "      <td>0.0</td>\n",
              "      <td>0.0</td>\n",
              "      <td>403.083069</td>\n",
              "      <td>0.0</td>\n",
              "      <td>414.443817</td>\n",
              "      <td>403.800659</td>\n",
              "      <td>0.0</td>\n",
              "      <td>403.261993</td>\n",
              "      <td>0.0</td>\n",
              "      <td>0.0</td>\n",
              "      <td>417.993561</td>\n",
              "      <td>489.024750</td>\n",
              "      <td>498.280090</td>\n",
              "      <td>0.0</td>\n",
              "      <td>407.700378</td>\n",
              "      <td>0.0</td>\n",
              "      <td>0.0</td>\n",
              "      <td>0.0</td>\n",
              "      <td>0.0</td>\n",
              "      <td>0.0</td>\n",
              "      <td>0.0</td>\n",
              "      <td>0.0</td>\n",
              "      <td>0.0</td>\n",
              "      <td>415.943573</td>\n",
              "      <td>476.105927</td>\n",
              "      <td>0.0</td>\n",
              "      <td>433.324890</td>\n",
              "      <td>465.397858</td>\n",
              "    </tr>\n",
              "    <tr>\n",
              "      <th>2</th>\n",
              "      <td>ID00010637202177584971671</td>\n",
              "      <td>0.0</td>\n",
              "      <td>0.0</td>\n",
              "      <td>388.938568</td>\n",
              "      <td>416.908386</td>\n",
              "      <td>0.0</td>\n",
              "      <td>0.0</td>\n",
              "      <td>364.185577</td>\n",
              "      <td>0.0</td>\n",
              "      <td>373.975067</td>\n",
              "      <td>364.638367</td>\n",
              "      <td>0.0</td>\n",
              "      <td>364.227905</td>\n",
              "      <td>0.0</td>\n",
              "      <td>0.0</td>\n",
              "      <td>378.034058</td>\n",
              "      <td>441.280914</td>\n",
              "      <td>450.212585</td>\n",
              "      <td>0.0</td>\n",
              "      <td>368.148773</td>\n",
              "      <td>0.0</td>\n",
              "      <td>0.0</td>\n",
              "      <td>0.0</td>\n",
              "      <td>0.0</td>\n",
              "      <td>0.0</td>\n",
              "      <td>0.0</td>\n",
              "      <td>0.0</td>\n",
              "      <td>0.0</td>\n",
              "      <td>375.810455</td>\n",
              "      <td>430.206390</td>\n",
              "      <td>0.0</td>\n",
              "      <td>391.503357</td>\n",
              "      <td>419.957428</td>\n",
              "      <td>0.0</td>\n",
              "      <td>0.0</td>\n",
              "      <td>459.742645</td>\n",
              "      <td>492.004639</td>\n",
              "      <td>0.0</td>\n",
              "      <td>0.0</td>\n",
              "      <td>430.105988</td>\n",
              "      <td>...</td>\n",
              "      <td>0.0</td>\n",
              "      <td>0.0</td>\n",
              "      <td>0.0</td>\n",
              "      <td>369.612244</td>\n",
              "      <td>423.160553</td>\n",
              "      <td>0.0</td>\n",
              "      <td>385.286926</td>\n",
              "      <td>413.202026</td>\n",
              "      <td>0.0</td>\n",
              "      <td>0.0</td>\n",
              "      <td>434.077026</td>\n",
              "      <td>464.740784</td>\n",
              "      <td>0.0</td>\n",
              "      <td>0.0</td>\n",
              "      <td>406.198364</td>\n",
              "      <td>0.0</td>\n",
              "      <td>417.663269</td>\n",
              "      <td>406.883270</td>\n",
              "      <td>0.0</td>\n",
              "      <td>406.344360</td>\n",
              "      <td>0.0</td>\n",
              "      <td>0.0</td>\n",
              "      <td>421.341614</td>\n",
              "      <td>492.710541</td>\n",
              "      <td>502.183594</td>\n",
              "      <td>0.0</td>\n",
              "      <td>410.771149</td>\n",
              "      <td>0.0</td>\n",
              "      <td>0.0</td>\n",
              "      <td>0.0</td>\n",
              "      <td>0.0</td>\n",
              "      <td>0.0</td>\n",
              "      <td>0.0</td>\n",
              "      <td>0.0</td>\n",
              "      <td>0.0</td>\n",
              "      <td>419.213318</td>\n",
              "      <td>479.811401</td>\n",
              "      <td>0.0</td>\n",
              "      <td>436.754303</td>\n",
              "      <td>468.908112</td>\n",
              "    </tr>\n",
              "    <tr>\n",
              "      <th>3</th>\n",
              "      <td>ID00011637202177653955184</td>\n",
              "      <td>0.0</td>\n",
              "      <td>0.0</td>\n",
              "      <td>0.000000</td>\n",
              "      <td>0.000000</td>\n",
              "      <td>0.0</td>\n",
              "      <td>0.0</td>\n",
              "      <td>0.000000</td>\n",
              "      <td>0.0</td>\n",
              "      <td>0.000000</td>\n",
              "      <td>0.000000</td>\n",
              "      <td>0.0</td>\n",
              "      <td>0.000000</td>\n",
              "      <td>0.0</td>\n",
              "      <td>0.0</td>\n",
              "      <td>0.000000</td>\n",
              "      <td>0.000000</td>\n",
              "      <td>0.000000</td>\n",
              "      <td>0.0</td>\n",
              "      <td>0.000000</td>\n",
              "      <td>0.0</td>\n",
              "      <td>0.0</td>\n",
              "      <td>0.0</td>\n",
              "      <td>0.0</td>\n",
              "      <td>0.0</td>\n",
              "      <td>0.0</td>\n",
              "      <td>0.0</td>\n",
              "      <td>0.0</td>\n",
              "      <td>0.000000</td>\n",
              "      <td>0.000000</td>\n",
              "      <td>0.0</td>\n",
              "      <td>0.000000</td>\n",
              "      <td>0.000000</td>\n",
              "      <td>0.0</td>\n",
              "      <td>0.0</td>\n",
              "      <td>0.000000</td>\n",
              "      <td>0.000000</td>\n",
              "      <td>0.0</td>\n",
              "      <td>0.0</td>\n",
              "      <td>0.000000</td>\n",
              "      <td>...</td>\n",
              "      <td>0.0</td>\n",
              "      <td>0.0</td>\n",
              "      <td>0.0</td>\n",
              "      <td>0.000000</td>\n",
              "      <td>0.000000</td>\n",
              "      <td>0.0</td>\n",
              "      <td>0.000000</td>\n",
              "      <td>0.000000</td>\n",
              "      <td>0.0</td>\n",
              "      <td>0.0</td>\n",
              "      <td>0.000000</td>\n",
              "      <td>0.000000</td>\n",
              "      <td>0.0</td>\n",
              "      <td>0.0</td>\n",
              "      <td>0.000000</td>\n",
              "      <td>0.0</td>\n",
              "      <td>0.000000</td>\n",
              "      <td>0.000000</td>\n",
              "      <td>0.0</td>\n",
              "      <td>0.000000</td>\n",
              "      <td>0.0</td>\n",
              "      <td>0.0</td>\n",
              "      <td>0.000000</td>\n",
              "      <td>0.000000</td>\n",
              "      <td>0.000000</td>\n",
              "      <td>0.0</td>\n",
              "      <td>0.000000</td>\n",
              "      <td>0.0</td>\n",
              "      <td>0.0</td>\n",
              "      <td>0.0</td>\n",
              "      <td>0.0</td>\n",
              "      <td>0.0</td>\n",
              "      <td>0.0</td>\n",
              "      <td>0.0</td>\n",
              "      <td>0.0</td>\n",
              "      <td>0.000000</td>\n",
              "      <td>0.000000</td>\n",
              "      <td>0.0</td>\n",
              "      <td>0.000000</td>\n",
              "      <td>0.000000</td>\n",
              "    </tr>\n",
              "    <tr>\n",
              "      <th>4</th>\n",
              "      <td>ID00012637202177665765362</td>\n",
              "      <td>0.0</td>\n",
              "      <td>0.0</td>\n",
              "      <td>420.890411</td>\n",
              "      <td>450.809113</td>\n",
              "      <td>0.0</td>\n",
              "      <td>0.0</td>\n",
              "      <td>393.927521</td>\n",
              "      <td>0.0</td>\n",
              "      <td>404.811951</td>\n",
              "      <td>394.568573</td>\n",
              "      <td>0.0</td>\n",
              "      <td>394.036591</td>\n",
              "      <td>0.0</td>\n",
              "      <td>0.0</td>\n",
              "      <td>408.716888</td>\n",
              "      <td>477.641174</td>\n",
              "      <td>487.001709</td>\n",
              "      <td>0.0</td>\n",
              "      <td>398.326569</td>\n",
              "      <td>0.0</td>\n",
              "      <td>0.0</td>\n",
              "      <td>0.0</td>\n",
              "      <td>0.0</td>\n",
              "      <td>0.0</td>\n",
              "      <td>0.0</td>\n",
              "      <td>0.0</td>\n",
              "      <td>0.0</td>\n",
              "      <td>406.535828</td>\n",
              "      <td>465.328278</td>\n",
              "      <td>0.0</td>\n",
              "      <td>423.503296</td>\n",
              "      <td>454.573334</td>\n",
              "      <td>0.0</td>\n",
              "      <td>0.0</td>\n",
              "      <td>424.080292</td>\n",
              "      <td>454.175537</td>\n",
              "      <td>0.0</td>\n",
              "      <td>0.0</td>\n",
              "      <td>396.874054</td>\n",
              "      <td>...</td>\n",
              "      <td>0.0</td>\n",
              "      <td>0.0</td>\n",
              "      <td>0.0</td>\n",
              "      <td>408.066589</td>\n",
              "      <td>467.103882</td>\n",
              "      <td>0.0</td>\n",
              "      <td>425.138947</td>\n",
              "      <td>456.483368</td>\n",
              "      <td>0.0</td>\n",
              "      <td>0.0</td>\n",
              "      <td>468.948242</td>\n",
              "      <td>501.545135</td>\n",
              "      <td>0.0</td>\n",
              "      <td>0.0</td>\n",
              "      <td>438.567535</td>\n",
              "      <td>0.0</td>\n",
              "      <td>451.105927</td>\n",
              "      <td>439.541779</td>\n",
              "      <td>0.0</td>\n",
              "      <td>438.853424</td>\n",
              "      <td>0.0</td>\n",
              "      <td>0.0</td>\n",
              "      <td>454.649017</td>\n",
              "      <td>532.441895</td>\n",
              "      <td>542.249268</td>\n",
              "      <td>0.0</td>\n",
              "      <td>443.760742</td>\n",
              "      <td>0.0</td>\n",
              "      <td>0.0</td>\n",
              "      <td>0.0</td>\n",
              "      <td>0.0</td>\n",
              "      <td>0.0</td>\n",
              "      <td>0.0</td>\n",
              "      <td>0.0</td>\n",
              "      <td>0.0</td>\n",
              "      <td>452.754639</td>\n",
              "      <td>518.103210</td>\n",
              "      <td>0.0</td>\n",
              "      <td>471.472687</td>\n",
              "      <td>506.712372</td>\n",
              "    </tr>\n",
              "  </tbody>\n",
              "</table>\n",
              "<p>5 rows × 1281 columns</p>\n",
              "</div>"
            ],
            "text/plain": [
              "                          id    0    1  ...  1277        1278        1279\n",
              "0  ID00007637202177411956430  0.0  0.0  ...   0.0  291.180359  311.851898\n",
              "1  ID00009637202177434476278  0.0  0.0  ...   0.0  433.324890  465.397858\n",
              "2  ID00010637202177584971671  0.0  0.0  ...   0.0  436.754303  468.908112\n",
              "3  ID00011637202177653955184  0.0  0.0  ...   0.0    0.000000    0.000000\n",
              "4  ID00012637202177665765362  0.0  0.0  ...   0.0  471.472687  506.712372\n",
              "\n",
              "[5 rows x 1281 columns]"
            ]
          },
          "metadata": {
            "tags": []
          },
          "execution_count": 19
        }
      ]
    },
    {
      "cell_type": "code",
      "metadata": {
        "id": "AXiMxQUhbqBc"
      },
      "source": [
        "from sklearn.decomposition import PCA"
      ],
      "execution_count": null,
      "outputs": []
    },
    {
      "cell_type": "code",
      "metadata": {
        "id": "XOGJxGKedEUv"
      },
      "source": [
        "array = features.drop('id',axis=1)"
      ],
      "execution_count": null,
      "outputs": []
    },
    {
      "cell_type": "code",
      "metadata": {
        "id": "ozUnoyZGdOq7"
      },
      "source": [
        "array = np.array(array)"
      ],
      "execution_count": null,
      "outputs": []
    },
    {
      "cell_type": "code",
      "metadata": {
        "colab": {
          "base_uri": "https://localhost:8080/"
        },
        "id": "PulCsy33dzsB",
        "outputId": "7e5955b9-8977-424f-d89a-21264232bc0a"
      },
      "source": [
        "array.shape"
      ],
      "execution_count": null,
      "outputs": [
        {
          "output_type": "execute_result",
          "data": {
            "text/plain": [
              "(171, 1280)"
            ]
          },
          "metadata": {
            "tags": []
          },
          "execution_count": 23
        }
      ]
    },
    {
      "cell_type": "code",
      "metadata": {
        "id": "V7iH9Vo0dPf7"
      },
      "source": [
        "pca = PCA(n_components=171,random_state=2021)"
      ],
      "execution_count": null,
      "outputs": []
    },
    {
      "cell_type": "code",
      "metadata": {
        "id": "uJMYarOndr5x"
      },
      "source": [
        "array_pca = pca.fit_transform(array)"
      ],
      "execution_count": null,
      "outputs": []
    },
    {
      "cell_type": "code",
      "metadata": {
        "colab": {
          "base_uri": "https://localhost:8080/",
          "height": 282
        },
        "id": "xVfRxO-XfP5O",
        "outputId": "bd456e7e-b0e5-4842-fb70-0c9a7aaab41a"
      },
      "source": [
        "plt.plot(np.cumsum(pca.explained_variance_ratio_))"
      ],
      "execution_count": null,
      "outputs": [
        {
          "output_type": "execute_result",
          "data": {
            "text/plain": [
              "[<matplotlib.lines.Line2D at 0x7fb1158770d0>]"
            ]
          },
          "metadata": {
            "tags": []
          },
          "execution_count": 42
        },
        {
          "output_type": "display_data",
          "data": {
            "image/png": "[encoded data removed]",
            "text/plain": [
              "<Figure size 432x288 with 1 Axes>"
            ]
          },
          "metadata": {
            "tags": [],
            "needs_background": "light"
          }
        }
      ]
    },
    {
      "cell_type": "code",
      "metadata": {
        "id": "V3QY_BPIfTSp"
      },
      "source": [
        "print(np.cumsum(pca.explained_variance_ratio_*100)[32])"
      ],
      "execution_count": null,
      "outputs": []
    },
    {
      "cell_type": "code",
      "metadata": {
        "id": "XwixN8mn8F_S"
      },
      "source": [
        ""
      ],
      "execution_count": null,
      "outputs": []
    },
    {
      "cell_type": "code",
      "metadata": {
        "id": "nZorEaEQgIFR"
      },
      "source": [
        "pca = PCA(n_components=32,random_state=2021)\n",
        "array_pca = pca.fit_transform(array)"
      ],
      "execution_count": null,
      "outputs": []
    },
    {
      "cell_type": "code",
      "metadata": {
        "id": "aJ4kasIajOxR"
      },
      "source": [
        "array_pca.shape"
      ],
      "execution_count": null,
      "outputs": []
    },
    {
      "cell_type": "code",
      "metadata": {
        "id": "Z8srTT1gjQNh"
      },
      "source": [
        "final_features = pd.DataFrame(columns=['Patient']+list(range(0,32)))"
      ],
      "execution_count": null,
      "outputs": []
    },
    {
      "cell_type": "code",
      "metadata": {
        "id": "OWAtp9E_joy1"
      },
      "source": [
        "for i in range(171):\n",
        "  id = features.iloc[i]['id']\n",
        "  z = [id]+list(array_pca[i])\n",
        "  final_features.loc[len(final_features)] = z"
      ],
      "execution_count": null,
      "outputs": []
    },
    {
      "cell_type": "code",
      "metadata": {
        "id": "gw4dBQZ2knPc"
      },
      "source": [
        "final_features.head()"
      ],
      "execution_count": null,
      "outputs": []
    },
    {
      "cell_type": "code",
      "metadata": {
        "id": "IR_HgYkTk2Zc"
      },
      "source": [
        "final_features.to_csv('/content/drive/MyDrive/final_features2.csv',index=False)"
      ],
      "execution_count": null,
      "outputs": []
    },
    {
      "cell_type": "code",
      "metadata": {
        "id": "EstnG_CClwck"
      },
      "source": [
        ""
      ],
      "execution_count": null,
      "outputs": []
    }
  ]
}